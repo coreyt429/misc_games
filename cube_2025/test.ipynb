{
 "cells": [
  {
   "cell_type": "code",
   "execution_count": 1,
   "id": "9931779f",
   "metadata": {},
   "outputs": [],
   "source": [
    "import sys\n",
    "sys.path.insert(0, './cube_2025')\n",
    "from cube import Cube\n",
    "from solver import Solver\n",
    "from visualize import print_color_cube\n",
    "import json\n",
    "import logging\n",
    "logging.basicConfig(level=logging.INFO, format=\"%(asctime)s - %(levelname)s - %(message)s\")"
   ]
  },
  {
   "cell_type": "code",
   "execution_count": 2,
   "id": "cc01716b",
   "metadata": {},
   "outputs": [
    {
     "name": "stdout",
     "output_type": "stream",
     "text": [
      "\n",
      "\u001b[0;30;40mK0\u001b[0m \u001b[0;30;40mK0\u001b[0m \u001b[0;30;40mK0\u001b[0m  \u001b[30;47m  \u001b[0m \u001b[30;47m  \u001b[0m \u001b[30;47m  \u001b[0m  \u001b[0;30;40mK0\u001b[0m \u001b[0;30;40mK0\u001b[0m \u001b[0;30;40mK0\u001b[0m  \u001b[0;30;40mK0\u001b[0m \u001b[0;30;40mK0\u001b[0m \u001b[0;30;40mK0\u001b[0m  \n",
      "\n",
      "\u001b[0;30;40mK0\u001b[0m \u001b[0;30;40mK0\u001b[0m \u001b[0;30;40mK0\u001b[0m  \u001b[30;47m  \u001b[0m \u001b[30;47m  \u001b[0m \u001b[30;47m  \u001b[0m  \u001b[0;30;40mK0\u001b[0m \u001b[0;30;40mK0\u001b[0m \u001b[0;30;40mK0\u001b[0m  \u001b[0;30;40mK0\u001b[0m \u001b[0;30;40mK0\u001b[0m \u001b[0;30;40mK0\u001b[0m  \n",
      "\n",
      "\u001b[0;30;40mK0\u001b[0m \u001b[0;30;40mK0\u001b[0m \u001b[0;30;40mK0\u001b[0m  \u001b[30;47m  \u001b[0m \u001b[30;47m  \u001b[0m \u001b[30;47m  \u001b[0m  \u001b[0;30;40mK0\u001b[0m \u001b[0;30;40mK0\u001b[0m \u001b[0;30;40mK0\u001b[0m  \u001b[0;30;40mK0\u001b[0m \u001b[0;30;40mK0\u001b[0m \u001b[0;30;40mK0\u001b[0m  \n",
      "\n",
      "\u001b[30;42m  \u001b[0m \u001b[30;42m  \u001b[0m \u001b[30;42m  \u001b[0m  \u001b[30;41m  \u001b[0m \u001b[30;41m  \u001b[0m \u001b[30;41m  \u001b[0m  \u001b[30;44m  \u001b[0m \u001b[30;44m  \u001b[0m \u001b[30;44m  \u001b[0m  \u001b[30;48;5;208m  \u001b[0m \u001b[30;48;5;208m  \u001b[0m \u001b[30;48;5;208m  \u001b[0m  \n",
      "\n",
      "\u001b[30;42m  \u001b[0m \u001b[30;42m  \u001b[0m \u001b[30;42m  \u001b[0m  \u001b[30;41m  \u001b[0m \u001b[30;41m  \u001b[0m \u001b[30;41m  \u001b[0m  \u001b[30;44m  \u001b[0m \u001b[30;44m  \u001b[0m \u001b[30;44m  \u001b[0m  \u001b[30;48;5;208m  \u001b[0m \u001b[30;48;5;208m  \u001b[0m \u001b[30;48;5;208m  \u001b[0m  \n",
      "\n",
      "\u001b[30;41m  \u001b[0m \u001b[30;42m  \u001b[0m \u001b[30;43m  \u001b[0m  \u001b[30;41m  \u001b[0m \u001b[30;43m  \u001b[0m \u001b[30;43m  \u001b[0m  \u001b[30;44m  \u001b[0m \u001b[30;43m  \u001b[0m \u001b[30;43m  \u001b[0m  \u001b[30;48;5;208m  \u001b[0m \u001b[30;41m  \u001b[0m \u001b[30;42m  \u001b[0m  \n",
      "\n",
      "\u001b[0;30;40mK0\u001b[0m \u001b[0;30;40mK0\u001b[0m \u001b[0;30;40mK0\u001b[0m  \u001b[30;44m  \u001b[0m \u001b[30;48;5;208m  \u001b[0m \u001b[30;48;5;208m  \u001b[0m  \u001b[0;30;40mK0\u001b[0m \u001b[0;30;40mK0\u001b[0m \u001b[0;30;40mK0\u001b[0m  \u001b[0;30;40mK0\u001b[0m \u001b[0;30;40mK0\u001b[0m \u001b[0;30;40mK0\u001b[0m  \n",
      "\n",
      "\u001b[0;30;40mK0\u001b[0m \u001b[0;30;40mK0\u001b[0m \u001b[0;30;40mK0\u001b[0m  \u001b[30;43m  \u001b[0m \u001b[30;43m  \u001b[0m \u001b[30;44m  \u001b[0m  \u001b[0;30;40mK0\u001b[0m \u001b[0;30;40mK0\u001b[0m \u001b[0;30;40mK0\u001b[0m  \u001b[0;30;40mK0\u001b[0m \u001b[0;30;40mK0\u001b[0m \u001b[0;30;40mK0\u001b[0m  \n",
      "\n",
      "\u001b[0;30;40mK0\u001b[0m \u001b[0;30;40mK0\u001b[0m \u001b[0;30;40mK0\u001b[0m  \u001b[30;43m  \u001b[0m \u001b[30;43m  \u001b[0m \u001b[30;42m  \u001b[0m  \u001b[0;30;40mK0\u001b[0m \u001b[0;30;40mK0\u001b[0m \u001b[0;30;40mK0\u001b[0m  \u001b[0;30;40mK0\u001b[0m \u001b[0;30;40mK0\u001b[0m \u001b[0;30;40mK0\u001b[0m  \n",
      "\n"
     ]
    }
   ],
   "source": [
    "cube = Cube()\n",
    "solver = Solver(cube)\n",
    "cube.scramble(20)\n",
    "solver.cross()\n",
    "solver.f2l()\n",
    "\n",
    "print_color_cube(cube)"
   ]
  },
  {
   "cell_type": "code",
   "execution_count": 3,
   "id": "891c212f",
   "metadata": {},
   "outputs": [
    {
     "name": "stdout",
     "output_type": "stream",
     "text": [
      "\n",
      "\u001b[0;30;40mK0\u001b[0m \u001b[0;30;40mK0\u001b[0m \u001b[0;30;40mK0\u001b[0m  \u001b[30;47m  \u001b[0m \u001b[30;47m  \u001b[0m \u001b[30;47m  \u001b[0m  \u001b[0;30;40mK0\u001b[0m \u001b[0;30;40mK0\u001b[0m \u001b[0;30;40mK0\u001b[0m  \u001b[0;30;40mK0\u001b[0m \u001b[0;30;40mK0\u001b[0m \u001b[0;30;40mK0\u001b[0m  \n",
      "\n",
      "\u001b[0;30;40mK0\u001b[0m \u001b[0;30;40mK0\u001b[0m \u001b[0;30;40mK0\u001b[0m  \u001b[30;47m  \u001b[0m \u001b[30;47m  \u001b[0m \u001b[30;47m  \u001b[0m  \u001b[0;30;40mK0\u001b[0m \u001b[0;30;40mK0\u001b[0m \u001b[0;30;40mK0\u001b[0m  \u001b[0;30;40mK0\u001b[0m \u001b[0;30;40mK0\u001b[0m \u001b[0;30;40mK0\u001b[0m  \n",
      "\n",
      "\u001b[0;30;40mK0\u001b[0m \u001b[0;30;40mK0\u001b[0m \u001b[0;30;40mK0\u001b[0m  \u001b[30;47m  \u001b[0m \u001b[30;47m  \u001b[0m \u001b[30;47m  \u001b[0m  \u001b[0;30;40mK0\u001b[0m \u001b[0;30;40mK0\u001b[0m \u001b[0;30;40mK0\u001b[0m  \u001b[0;30;40mK0\u001b[0m \u001b[0;30;40mK0\u001b[0m \u001b[0;30;40mK0\u001b[0m  \n",
      "\n",
      "\u001b[30;42m  \u001b[0m \u001b[30;42m  \u001b[0m \u001b[30;42m  \u001b[0m  \u001b[30;41m  \u001b[0m \u001b[30;41m  \u001b[0m \u001b[30;41m  \u001b[0m  \u001b[30;44m  \u001b[0m \u001b[30;44m  \u001b[0m \u001b[30;44m  \u001b[0m  \u001b[30;48;5;208m  \u001b[0m \u001b[30;48;5;208m  \u001b[0m \u001b[30;48;5;208m  \u001b[0m  \n",
      "\n",
      "\u001b[30;42m  \u001b[0m \u001b[30;42m  \u001b[0m \u001b[30;42m  \u001b[0m  \u001b[30;41m  \u001b[0m \u001b[30;41m  \u001b[0m \u001b[30;41m  \u001b[0m  \u001b[30;44m  \u001b[0m \u001b[30;44m  \u001b[0m \u001b[30;44m  \u001b[0m  \u001b[30;48;5;208m  \u001b[0m \u001b[30;48;5;208m  \u001b[0m \u001b[30;48;5;208m  \u001b[0m  \n",
      "\n",
      "\u001b[30;41m  \u001b[0m \u001b[30;42m  \u001b[0m \u001b[30;43m  \u001b[0m  \u001b[30;41m  \u001b[0m \u001b[30;43m  \u001b[0m \u001b[30;43m  \u001b[0m  \u001b[30;44m  \u001b[0m \u001b[30;43m  \u001b[0m \u001b[30;43m  \u001b[0m  \u001b[30;48;5;208m  \u001b[0m \u001b[30;41m  \u001b[0m \u001b[30;42m  \u001b[0m  \n",
      "\n",
      "\u001b[0;30;40mK0\u001b[0m \u001b[0;30;40mK0\u001b[0m \u001b[0;30;40mK0\u001b[0m  \u001b[30;44m  \u001b[0m \u001b[30;48;5;208m  \u001b[0m \u001b[30;48;5;208m  \u001b[0m  \u001b[0;30;40mK0\u001b[0m \u001b[0;30;40mK0\u001b[0m \u001b[0;30;40mK0\u001b[0m  \u001b[0;30;40mK0\u001b[0m \u001b[0;30;40mK0\u001b[0m \u001b[0;30;40mK0\u001b[0m  \n",
      "\n",
      "\u001b[0;30;40mK0\u001b[0m \u001b[0;30;40mK0\u001b[0m \u001b[0;30;40mK0\u001b[0m  \u001b[30;43m  \u001b[0m \u001b[30;43m  \u001b[0m \u001b[30;44m  \u001b[0m  \u001b[0;30;40mK0\u001b[0m \u001b[0;30;40mK0\u001b[0m \u001b[0;30;40mK0\u001b[0m  \u001b[0;30;40mK0\u001b[0m \u001b[0;30;40mK0\u001b[0m \u001b[0;30;40mK0\u001b[0m  \n",
      "\n",
      "\u001b[0;30;40mK0\u001b[0m \u001b[0;30;40mK0\u001b[0m \u001b[0;30;40mK0\u001b[0m  \u001b[30;43m  \u001b[0m \u001b[30;43m  \u001b[0m \u001b[30;42m  \u001b[0m  \u001b[0;30;40mK0\u001b[0m \u001b[0;30;40mK0\u001b[0m \u001b[0;30;40mK0\u001b[0m  \u001b[0;30;40mK0\u001b[0m \u001b[0;30;40mK0\u001b[0m \u001b[0;30;40mK0\u001b[0m  \n",
      "\n",
      "WWWWWWWWWBOOYYBYYGGGGGGGRGYBBBBBBBYYRRRRRRRYYOOOOOOORG\n"
     ]
    }
   ],
   "source": [
    "solver.f2l()\n",
    "print_color_cube(cube)\n",
    "print(str(cube))\n",
    "def get_matching_edge(corner):\n",
    "        \"\"\"\n",
    "        Get the edge that belongs to the corner cubie\n",
    "        \"\"\"\n",
    "        color_filter = ''.join(corner.color).replace('W', '')\n",
    "        edges = corner.cube.edges(color_filter=color_filter)\n",
    "        for edge in edges:\n",
    "            matched = True\n",
    "            for color in edge.color:\n",
    "                if color not in color_filter:\n",
    "                    matched = False\n",
    "            if matched:\n",
    "                return edge\n",
    "        return None"
   ]
  },
  {
   "cell_type": "code",
   "execution_count": null,
   "id": "ba6beff9",
   "metadata": {},
   "outputs": [],
   "source": [
    "\n",
    "\n",
    "\n",
    "\n",
    "        \n"
   ]
  },
  {
   "cell_type": "code",
   "execution_count": null,
   "id": "832ca449",
   "metadata": {},
   "outputs": [],
   "source": [
    "\n"
   ]
  },
  {
   "cell_type": "code",
   "execution_count": null,
   "id": "29c6c84c",
   "metadata": {},
   "outputs": [],
   "source": [
    "\n"
   ]
  },
  {
   "cell_type": "code",
   "execution_count": 4,
   "id": "a2dcf091",
   "metadata": {},
   "outputs": [
    {
     "data": {
      "text/plain": [
       "Cube(size=3, debug=False, cubies=[\"Cubie(color=('W', 'R', 'G'), position=UFL, orientation=0)\", \"Cubie(color=('W', 'B', 'R'), position=UFR, orientation=0)\", \"Cubie(color=('W', 'O', 'B'), position=UBR, orientation=0)\", \"Cubie(color=('W', 'G', 'O'), position=UBL, orientation=0)\", \"Cubie(color=('R', 'Y', 'G'), position=DBL, orientation=0)\", \"Cubie(color=('B', 'Y', 'R'), position=DFL, orientation=2)\", \"Cubie(color=('O', 'Y', 'B'), position=DFR, orientation=2)\", \"Cubie(color=('G', 'Y', 'O'), position=DBR, orientation=2)\", \"Cubie(color=('W', 'R'), position=UF, orientation=0)\", \"Cubie(color=('W', 'B'), position=UR, orientation=0)\", \"Cubie(color=('W', 'O'), position=UB, orientation=0)\", \"Cubie(color=('W', 'G'), position=UL, orientation=0)\", \"Cubie(color=('Y', 'R'), position=DB, orientation=0)\", \"Cubie(color=('Y', 'B'), position=DR, orientation=1)\", \"Cubie(color=('Y', 'O'), position=DF, orientation=1)\", \"Cubie(color=('Y', 'G'), position=DL, orientation=0)\", \"Cubie(color=('R', 'G'), position=FL, orientation=0)\", \"Cubie(color=('R', 'B'), position=FR, orientation=0)\", \"Cubie(color=('O', 'G'), position=BL, orientation=0)\", \"Cubie(color=('O', 'B'), position=BR, orientation=0)\", \"Cubie(color=('W',), position=U, orientation=0)\", \"Cubie(color=('Y',), position=D, orientation=0)\", \"Cubie(color=('G',), position=L, orientation=0)\", \"Cubie(color=('B',), position=R, orientation=0)\", \"Cubie(color=('R',), position=F, orientation=0)\", \"Cubie(color=('O',), position=B, orientation=0)\"])"
      ]
     },
     "execution_count": 4,
     "metadata": {},
     "output_type": "execute_result"
    }
   ],
   "source": [
    "(cube)\n"
   ]
  },
  {
   "cell_type": "code",
   "execution_count": 5,
   "id": "3ee7bb24",
   "metadata": {},
   "outputs": [],
   "source": [
    "with open('oll_sequence_data.json', 'r') as f:\n",
    "    oll_sequences = json.load(f)"
   ]
  },
  {
   "cell_type": "code",
   "execution_count": 6,
   "id": "9bf8d654",
   "metadata": {},
   "outputs": [
    {
     "name": "stdout",
     "output_type": "stream",
     "text": [
      "BOOYYBYYGWWWWWWWWWYGRGGGGGGYYBBBBBBBGROOOOOOOYYRRRRRRR\n",
      "OLL state (1): ___YY_YY__________Y________YY________________YY_______\n",
      "OLL state (2): YY_YY______________________YY_______YY_______Y________\n",
      "OLL sequence for state _YY_YY____________YY_______Y________YY________________: r U2 R' U' R U' r'\n"
     ]
    }
   ],
   "source": [
    "# cube.reset()\n",
    "# solver.invert_cube()\n",
    "# print(cube)\n",
    "# cube.scramble(20)\n",
    "# solver.cross()\n",
    "# solver.f2l()\n",
    "# solver.oll()\n",
    "solver.invert_cube()\n",
    "print(cube)\n",
    "state = solver._oll_get_state()\n",
    "sentinel = 0\n",
    "while state not in oll_sequences and sentinel < 4:\n",
    "    sentinel += 1\n",
    "    print(f\"OLL state ({sentinel}): {state}\")\n",
    "    cube.rotate_cube(axis='y')\n",
    "    state = solver._oll_get_state()\n",
    "    \n",
    "if state in oll_sequences:\n",
    "    print(f\"OLL sequence for state {state}: {oll_sequences[state]}\")\n",
    "    cube.sequence(oll_sequences[state])\n",
    "else:\n",
    "    print(f\"No OLL sequence found for state {state}.\")\n",
    "    sentinel = 0\n",
    "    while state not in oll_sequences and sentinel < 4:\n",
    "        sentinel += 1\n",
    "        cube.sequence(\"F R U R' U' F'\")\n",
    "        state = solver._oll_get_state()\n",
    "    if state in oll_sequences:\n",
    "        print(f\"OLL sequence for state {state}: {oll_sequences[state]}\")\n",
    "        cube.sequence(oll_sequences[state])\n",
    "    else:\n",
    "        sentinel = 0\n",
    "        while state not in oll_sequences and sentinel < 4:\n",
    "            sentinel += 1\n",
    "            print(f\"OLL state ({sentinel}): {state}\")\n",
    "            cube.rotate_cube(axis='y')\n",
    "            state = solver._oll_get_state()\n",
    "            sentinel_2 = 0\n",
    "            while state not in oll_sequences and sentinel_2 < 4:\n",
    "                sentinel_2 += 1\n",
    "                cube.sequence(\"F R U R' U' F'\")\n",
    "                state = solver._oll_get_state()\n",
    "        if state in oll_sequences:\n",
    "            print(f\"OLL sequence for state {state}: {oll_sequences[state]}\")\n",
    "            cube.sequence(oll_sequences[state])\n",
    "        else:\n",
    "            print(\"Giving up on OLL sequence finding.\")"
   ]
  },
  {
   "cell_type": "code",
   "execution_count": 7,
   "id": "84fda75b",
   "metadata": {},
   "outputs": [],
   "source": [
    "\n",
    "# solver.orient_cube()\n",
    "# solver.invert_cube()\n",
    "# # cube.loglevel(logging.DEBUG)\n",
    "# cube.sequence(\"R U' y R2 D R' U2 R D' R2 d R'\")"
   ]
  },
  {
   "cell_type": "code",
   "execution_count": 8,
   "id": "d412fde3",
   "metadata": {},
   "outputs": [
    {
     "name": "stdout",
     "output_type": "stream",
     "text": [
      "\n",
      "\u001b[0;30;40mK0\u001b[0m \u001b[0;30;40mK0\u001b[0m \u001b[0;30;40mK0\u001b[0m  \u001b[30;43m  \u001b[0m \u001b[30;43m  \u001b[0m \u001b[30;43m  \u001b[0m  \u001b[0;30;40mK0\u001b[0m \u001b[0;30;40mK0\u001b[0m \u001b[0;30;40mK0\u001b[0m  \u001b[0;30;40mK0\u001b[0m \u001b[0;30;40mK0\u001b[0m \u001b[0;30;40mK0\u001b[0m  \n",
      "\n",
      "\u001b[0;30;40mK0\u001b[0m \u001b[0;30;40mK0\u001b[0m \u001b[0;30;40mK0\u001b[0m  \u001b[30;43m  \u001b[0m \u001b[30;43m  \u001b[0m \u001b[30;43m  \u001b[0m  \u001b[0;30;40mK0\u001b[0m \u001b[0;30;40mK0\u001b[0m \u001b[0;30;40mK0\u001b[0m  \u001b[0;30;40mK0\u001b[0m \u001b[0;30;40mK0\u001b[0m \u001b[0;30;40mK0\u001b[0m  \n",
      "\n",
      "\u001b[0;30;40mK0\u001b[0m \u001b[0;30;40mK0\u001b[0m \u001b[0;30;40mK0\u001b[0m  \u001b[30;43m  \u001b[0m \u001b[30;43m  \u001b[0m \u001b[30;43m  \u001b[0m  \u001b[0;30;40mK0\u001b[0m \u001b[0;30;40mK0\u001b[0m \u001b[0;30;40mK0\u001b[0m  \u001b[0;30;40mK0\u001b[0m \u001b[0;30;40mK0\u001b[0m \u001b[0;30;40mK0\u001b[0m  \n",
      "\n",
      "\u001b[30;41m  \u001b[0m \u001b[30;42m  \u001b[0m \u001b[30;41m  \u001b[0m  \u001b[30;42m  \u001b[0m \u001b[30;44m  \u001b[0m \u001b[30;42m  \u001b[0m  \u001b[30;48;5;208m  \u001b[0m \u001b[30;48;5;208m  \u001b[0m \u001b[30;48;5;208m  \u001b[0m  \u001b[30;44m  \u001b[0m \u001b[30;41m  \u001b[0m \u001b[30;44m  \u001b[0m  \n",
      "\n",
      "\u001b[30;44m  \u001b[0m \u001b[30;44m  \u001b[0m \u001b[30;44m  \u001b[0m  \u001b[30;41m  \u001b[0m \u001b[30;41m  \u001b[0m \u001b[30;41m  \u001b[0m  \u001b[30;42m  \u001b[0m \u001b[30;42m  \u001b[0m \u001b[30;42m  \u001b[0m  \u001b[30;48;5;208m  \u001b[0m \u001b[30;48;5;208m  \u001b[0m \u001b[30;48;5;208m  \u001b[0m  \n",
      "\n",
      "\u001b[30;44m  \u001b[0m \u001b[30;44m  \u001b[0m \u001b[30;44m  \u001b[0m  \u001b[30;41m  \u001b[0m \u001b[30;41m  \u001b[0m \u001b[30;41m  \u001b[0m  \u001b[30;42m  \u001b[0m \u001b[30;42m  \u001b[0m \u001b[30;42m  \u001b[0m  \u001b[30;48;5;208m  \u001b[0m \u001b[30;48;5;208m  \u001b[0m \u001b[30;48;5;208m  \u001b[0m  \n",
      "\n",
      "\u001b[0;30;40mK0\u001b[0m \u001b[0;30;40mK0\u001b[0m \u001b[0;30;40mK0\u001b[0m  \u001b[30;47m  \u001b[0m \u001b[30;47m  \u001b[0m \u001b[30;47m  \u001b[0m  \u001b[0;30;40mK0\u001b[0m \u001b[0;30;40mK0\u001b[0m \u001b[0;30;40mK0\u001b[0m  \u001b[0;30;40mK0\u001b[0m \u001b[0;30;40mK0\u001b[0m \u001b[0;30;40mK0\u001b[0m  \n",
      "\n",
      "\u001b[0;30;40mK0\u001b[0m \u001b[0;30;40mK0\u001b[0m \u001b[0;30;40mK0\u001b[0m  \u001b[30;47m  \u001b[0m \u001b[30;47m  \u001b[0m \u001b[30;47m  \u001b[0m  \u001b[0;30;40mK0\u001b[0m \u001b[0;30;40mK0\u001b[0m \u001b[0;30;40mK0\u001b[0m  \u001b[0;30;40mK0\u001b[0m \u001b[0;30;40mK0\u001b[0m \u001b[0;30;40mK0\u001b[0m  \n",
      "\n",
      "\u001b[0;30;40mK0\u001b[0m \u001b[0;30;40mK0\u001b[0m \u001b[0;30;40mK0\u001b[0m  \u001b[30;47m  \u001b[0m \u001b[30;47m  \u001b[0m \u001b[30;47m  \u001b[0m  \u001b[0;30;40mK0\u001b[0m \u001b[0;30;40mK0\u001b[0m \u001b[0;30;40mK0\u001b[0m  \u001b[0;30;40mK0\u001b[0m \u001b[0;30;40mK0\u001b[0m \u001b[0;30;40mK0\u001b[0m  \n",
      "\n"
     ]
    }
   ],
   "source": [
    "print_color_cube(cube)"
   ]
  },
  {
   "cell_type": "code",
   "execution_count": 9,
   "id": "6afe22c0",
   "metadata": {},
   "outputs": [
    {
     "name": "stdout",
     "output_type": "stream",
     "text": [
      "\n",
      "\u001b[0;30;40mK0\u001b[0m \u001b[0;30;40mK0\u001b[0m \u001b[0;30;40mK0\u001b[0m  \u001b[30;42m  \u001b[0m \u001b[30;42m  \u001b[0m \u001b[30;42m  \u001b[0m  \u001b[0;30;40mK0\u001b[0m \u001b[0;30;40mK0\u001b[0m \u001b[0;30;40mK0\u001b[0m  \u001b[0;30;40mK0\u001b[0m \u001b[0;30;40mK0\u001b[0m \u001b[0;30;40mK0\u001b[0m  \n",
      "\n",
      "\u001b[0;30;40mK0\u001b[0m \u001b[0;30;40mK0\u001b[0m \u001b[0;30;40mK0\u001b[0m  \u001b[30;42m  \u001b[0m \u001b[30;42m  \u001b[0m \u001b[30;42m  \u001b[0m  \u001b[0;30;40mK0\u001b[0m \u001b[0;30;40mK0\u001b[0m \u001b[0;30;40mK0\u001b[0m  \u001b[0;30;40mK0\u001b[0m \u001b[0;30;40mK0\u001b[0m \u001b[0;30;40mK0\u001b[0m  \n",
      "\n",
      "\u001b[0;30;40mK0\u001b[0m \u001b[0;30;40mK0\u001b[0m \u001b[0;30;40mK0\u001b[0m  \u001b[30;47m  \u001b[0m \u001b[30;47m  \u001b[0m \u001b[30;47m  \u001b[0m  \u001b[0;30;40mK0\u001b[0m \u001b[0;30;40mK0\u001b[0m \u001b[0;30;40mK0\u001b[0m  \u001b[0;30;40mK0\u001b[0m \u001b[0;30;40mK0\u001b[0m \u001b[0;30;40mK0\u001b[0m  \n",
      "\n",
      "\u001b[30;43m  \u001b[0m \u001b[30;43m  \u001b[0m \u001b[30;42m  \u001b[0m  \u001b[30;41m  \u001b[0m \u001b[30;41m  \u001b[0m \u001b[30;41m  \u001b[0m  \u001b[30;44m  \u001b[0m \u001b[30;47m  \u001b[0m \u001b[30;47m  \u001b[0m  \u001b[30;48;5;208m  \u001b[0m \u001b[30;48;5;208m  \u001b[0m \u001b[30;48;5;208m  \u001b[0m  \n",
      "\n",
      "\u001b[30;43m  \u001b[0m \u001b[30;43m  \u001b[0m \u001b[30;42m  \u001b[0m  \u001b[30;41m  \u001b[0m \u001b[30;41m  \u001b[0m \u001b[30;41m  \u001b[0m  \u001b[30;44m  \u001b[0m \u001b[30;47m  \u001b[0m \u001b[30;47m  \u001b[0m  \u001b[30;48;5;208m  \u001b[0m \u001b[30;48;5;208m  \u001b[0m \u001b[30;48;5;208m  \u001b[0m  \n",
      "\n",
      "\u001b[30;43m  \u001b[0m \u001b[30;43m  \u001b[0m \u001b[30;42m  \u001b[0m  \u001b[30;41m  \u001b[0m \u001b[30;41m  \u001b[0m \u001b[30;41m  \u001b[0m  \u001b[30;44m  \u001b[0m \u001b[30;47m  \u001b[0m \u001b[30;47m  \u001b[0m  \u001b[30;48;5;208m  \u001b[0m \u001b[30;48;5;208m  \u001b[0m \u001b[30;48;5;208m  \u001b[0m  \n",
      "\n",
      "\u001b[0;30;40mK0\u001b[0m \u001b[0;30;40mK0\u001b[0m \u001b[0;30;40mK0\u001b[0m  \u001b[30;43m  \u001b[0m \u001b[30;43m  \u001b[0m \u001b[30;43m  \u001b[0m  \u001b[0;30;40mK0\u001b[0m \u001b[0;30;40mK0\u001b[0m \u001b[0;30;40mK0\u001b[0m  \u001b[0;30;40mK0\u001b[0m \u001b[0;30;40mK0\u001b[0m \u001b[0;30;40mK0\u001b[0m  \n",
      "\n",
      "\u001b[0;30;40mK0\u001b[0m \u001b[0;30;40mK0\u001b[0m \u001b[0;30;40mK0\u001b[0m  \u001b[30;44m  \u001b[0m \u001b[30;44m  \u001b[0m \u001b[30;44m  \u001b[0m  \u001b[0;30;40mK0\u001b[0m \u001b[0;30;40mK0\u001b[0m \u001b[0;30;40mK0\u001b[0m  \u001b[0;30;40mK0\u001b[0m \u001b[0;30;40mK0\u001b[0m \u001b[0;30;40mK0\u001b[0m  \n",
      "\n",
      "\u001b[0;30;40mK0\u001b[0m \u001b[0;30;40mK0\u001b[0m \u001b[0;30;40mK0\u001b[0m  \u001b[30;44m  \u001b[0m \u001b[30;44m  \u001b[0m \u001b[30;44m  \u001b[0m  \u001b[0;30;40mK0\u001b[0m \u001b[0;30;40mK0\u001b[0m \u001b[0;30;40mK0\u001b[0m  \u001b[0;30;40mK0\u001b[0m \u001b[0;30;40mK0\u001b[0m \u001b[0;30;40mK0\u001b[0m  \n",
      "\n"
     ]
    }
   ],
   "source": [
    "cube.reset()\n",
    "cube.sequence(\"b'\")\n",
    "print_color_cube(cube)"
   ]
  },
  {
   "cell_type": "code",
   "execution_count": null,
   "id": "8e4a0da6",
   "metadata": {},
   "outputs": [],
   "source": []
  },
  {
   "cell_type": "code",
   "execution_count": null,
   "id": "b477bf23",
   "metadata": {},
   "outputs": [],
   "source": []
  },
  {
   "cell_type": "code",
   "execution_count": null,
   "id": "ddc5d0d0",
   "metadata": {},
   "outputs": [],
   "source": []
  },
  {
   "cell_type": "code",
   "execution_count": null,
   "id": "843ab727",
   "metadata": {},
   "outputs": [],
   "source": []
  },
  {
   "cell_type": "code",
   "execution_count": null,
   "id": "e1660321",
   "metadata": {},
   "outputs": [],
   "source": []
  },
  {
   "cell_type": "code",
   "execution_count": null,
   "id": "e30e6211",
   "metadata": {},
   "outputs": [],
   "source": [
    "\n"
   ]
  },
  {
   "cell_type": "code",
   "execution_count": 10,
   "id": "f2454ee5",
   "metadata": {},
   "outputs": [
    {
     "name": "stdout",
     "output_type": "stream",
     "text": [
      "\n",
      "\u001b[0;30;40mK0\u001b[0m \u001b[0;30;40mK0\u001b[0m \u001b[0;30;40mK0\u001b[0m  \u001b[30;42m  \u001b[0m \u001b[30;42m  \u001b[0m \u001b[30;42m  \u001b[0m  \u001b[0;30;40mK0\u001b[0m \u001b[0;30;40mK0\u001b[0m \u001b[0;30;40mK0\u001b[0m  \u001b[0;30;40mK0\u001b[0m \u001b[0;30;40mK0\u001b[0m \u001b[0;30;40mK0\u001b[0m  \n",
      "\n",
      "\u001b[0;30;40mK0\u001b[0m \u001b[0;30;40mK0\u001b[0m \u001b[0;30;40mK0\u001b[0m  \u001b[30;42m  \u001b[0m \u001b[30;42m  \u001b[0m \u001b[30;42m  \u001b[0m  \u001b[0;30;40mK0\u001b[0m \u001b[0;30;40mK0\u001b[0m \u001b[0;30;40mK0\u001b[0m  \u001b[0;30;40mK0\u001b[0m \u001b[0;30;40mK0\u001b[0m \u001b[0;30;40mK0\u001b[0m  \n",
      "\n",
      "\u001b[0;30;40mK0\u001b[0m \u001b[0;30;40mK0\u001b[0m \u001b[0;30;40mK0\u001b[0m  \u001b[30;47m  \u001b[0m \u001b[30;47m  \u001b[0m \u001b[30;47m  \u001b[0m  \u001b[0;30;40mK0\u001b[0m \u001b[0;30;40mK0\u001b[0m \u001b[0;30;40mK0\u001b[0m  \u001b[0;30;40mK0\u001b[0m \u001b[0;30;40mK0\u001b[0m \u001b[0;30;40mK0\u001b[0m  \n",
      "\n",
      "\u001b[30;43m  \u001b[0m \u001b[30;43m  \u001b[0m \u001b[30;42m  \u001b[0m  \u001b[30;41m  \u001b[0m \u001b[30;41m  \u001b[0m \u001b[30;41m  \u001b[0m  \u001b[30;44m  \u001b[0m \u001b[30;47m  \u001b[0m \u001b[30;47m  \u001b[0m  \u001b[30;48;5;208m  \u001b[0m \u001b[30;48;5;208m  \u001b[0m \u001b[30;48;5;208m  \u001b[0m  \n",
      "\n",
      "\u001b[30;43m  \u001b[0m \u001b[30;43m  \u001b[0m \u001b[30;42m  \u001b[0m  \u001b[30;41m  \u001b[0m \u001b[30;41m  \u001b[0m \u001b[30;41m  \u001b[0m  \u001b[30;44m  \u001b[0m \u001b[30;47m  \u001b[0m \u001b[30;47m  \u001b[0m  \u001b[30;48;5;208m  \u001b[0m \u001b[30;48;5;208m  \u001b[0m \u001b[30;48;5;208m  \u001b[0m  \n",
      "\n",
      "\u001b[30;43m  \u001b[0m \u001b[30;43m  \u001b[0m \u001b[30;42m  \u001b[0m  \u001b[30;41m  \u001b[0m \u001b[30;41m  \u001b[0m \u001b[30;41m  \u001b[0m  \u001b[30;44m  \u001b[0m \u001b[30;47m  \u001b[0m \u001b[30;47m  \u001b[0m  \u001b[30;48;5;208m  \u001b[0m \u001b[30;48;5;208m  \u001b[0m \u001b[30;48;5;208m  \u001b[0m  \n",
      "\n",
      "\u001b[0;30;40mK0\u001b[0m \u001b[0;30;40mK0\u001b[0m \u001b[0;30;40mK0\u001b[0m  \u001b[30;43m  \u001b[0m \u001b[30;43m  \u001b[0m \u001b[30;43m  \u001b[0m  \u001b[0;30;40mK0\u001b[0m \u001b[0;30;40mK0\u001b[0m \u001b[0;30;40mK0\u001b[0m  \u001b[0;30;40mK0\u001b[0m \u001b[0;30;40mK0\u001b[0m \u001b[0;30;40mK0\u001b[0m  \n",
      "\n",
      "\u001b[0;30;40mK0\u001b[0m \u001b[0;30;40mK0\u001b[0m \u001b[0;30;40mK0\u001b[0m  \u001b[30;44m  \u001b[0m \u001b[30;44m  \u001b[0m \u001b[30;44m  \u001b[0m  \u001b[0;30;40mK0\u001b[0m \u001b[0;30;40mK0\u001b[0m \u001b[0;30;40mK0\u001b[0m  \u001b[0;30;40mK0\u001b[0m \u001b[0;30;40mK0\u001b[0m \u001b[0;30;40mK0\u001b[0m  \n",
      "\n",
      "\u001b[0;30;40mK0\u001b[0m \u001b[0;30;40mK0\u001b[0m \u001b[0;30;40mK0\u001b[0m  \u001b[30;44m  \u001b[0m \u001b[30;44m  \u001b[0m \u001b[30;44m  \u001b[0m  \u001b[0;30;40mK0\u001b[0m \u001b[0;30;40mK0\u001b[0m \u001b[0;30;40mK0\u001b[0m  \u001b[0;30;40mK0\u001b[0m \u001b[0;30;40mK0\u001b[0m \u001b[0;30;40mK0\u001b[0m  \n",
      "\n"
     ]
    }
   ],
   "source": [
    "print_color_cube(cube)"
   ]
  },
  {
   "cell_type": "code",
   "execution_count": 11,
   "id": "8715af6f",
   "metadata": {},
   "outputs": [
    {
     "name": "stdout",
     "output_type": "stream",
     "text": [
      "failures: 0 out of 1000 iterations (100% success rate)\n"
     ]
    }
   ],
   "source": [
    "failures = 0\n",
    "iterations = 1000\n",
    "for iteration in range(iterations):\n",
    "    cube.reset()\n",
    "    cube.scramble(20)\n",
    "    scramble_state = str(cube)\n",
    "    solver.cross()\n",
    "    solver.f2l()\n",
    "    oll_state = str(cube)\n",
    "    if not solver.oll():\n",
    "        failures += 1\n",
    "        print(f\"Failed to solve OLL for scramble: {scramble_state}, oll: {oll_state}\")\n",
    "        continue\n",
    "    solver.orient_cube()\n",
    "    # print_color_cube(cube)\n",
    "print(f\"failures: {failures} out of {iterations} iterations ({int((iterations-failures)/iterations*100)}% success rate)\")"
   ]
  },
  {
   "cell_type": "code",
   "execution_count": 12,
   "id": "2f698b4f",
   "metadata": {},
   "outputs": [
    {
     "name": "stdout",
     "output_type": "stream",
     "text": [
      "Final OLL state: ___YYYY_Y_________Y__________Y_______Y________Y_______\n",
      "\n",
      "\u001b[0;30;40mK0\u001b[0m \u001b[0;30;40mK0\u001b[0m \u001b[0;30;40mK0\u001b[0m  \u001b[30;41m  \u001b[0m \u001b[30;42m  \u001b[0m \u001b[30;44m  \u001b[0m  \u001b[0;30;40mK0\u001b[0m \u001b[0;30;40mK0\u001b[0m \u001b[0;30;40mK0\u001b[0m  \u001b[0;30;40mK0\u001b[0m \u001b[0;30;40mK0\u001b[0m \u001b[0;30;40mK0\u001b[0m  \n",
      "\n",
      "\u001b[0;30;40mK0\u001b[0m \u001b[0;30;40mK0\u001b[0m \u001b[0;30;40mK0\u001b[0m  \u001b[30;43m  \u001b[0m \u001b[30;43m  \u001b[0m \u001b[30;43m  \u001b[0m  \u001b[0;30;40mK0\u001b[0m \u001b[0;30;40mK0\u001b[0m \u001b[0;30;40mK0\u001b[0m  \u001b[0;30;40mK0\u001b[0m \u001b[0;30;40mK0\u001b[0m \u001b[0;30;40mK0\u001b[0m  \n",
      "\n",
      "\u001b[0;30;40mK0\u001b[0m \u001b[0;30;40mK0\u001b[0m \u001b[0;30;40mK0\u001b[0m  \u001b[30;43m  \u001b[0m \u001b[30;41m  \u001b[0m \u001b[30;43m  \u001b[0m  \u001b[0;30;40mK0\u001b[0m \u001b[0;30;40mK0\u001b[0m \u001b[0;30;40mK0\u001b[0m  \u001b[0;30;40mK0\u001b[0m \u001b[0;30;40mK0\u001b[0m \u001b[0;30;40mK0\u001b[0m  \n",
      "\n",
      "\u001b[30;43m  \u001b[0m \u001b[30;48;5;208m  \u001b[0m \u001b[30;44m  \u001b[0m  \u001b[30;41m  \u001b[0m \u001b[30;43m  \u001b[0m \u001b[30;42m  \u001b[0m  \u001b[30;48;5;208m  \u001b[0m \u001b[30;44m  \u001b[0m \u001b[30;43m  \u001b[0m  \u001b[30;48;5;208m  \u001b[0m \u001b[30;43m  \u001b[0m \u001b[30;42m  \u001b[0m  \n",
      "\n",
      "\u001b[30;41m  \u001b[0m \u001b[30;41m  \u001b[0m \u001b[30;41m  \u001b[0m  \u001b[30;42m  \u001b[0m \u001b[30;42m  \u001b[0m \u001b[30;42m  \u001b[0m  \u001b[30;48;5;208m  \u001b[0m \u001b[30;48;5;208m  \u001b[0m \u001b[30;48;5;208m  \u001b[0m  \u001b[30;44m  \u001b[0m \u001b[30;44m  \u001b[0m \u001b[30;44m  \u001b[0m  \n",
      "\n",
      "\u001b[30;41m  \u001b[0m \u001b[30;41m  \u001b[0m \u001b[30;41m  \u001b[0m  \u001b[30;42m  \u001b[0m \u001b[30;42m  \u001b[0m \u001b[30;42m  \u001b[0m  \u001b[30;48;5;208m  \u001b[0m \u001b[30;48;5;208m  \u001b[0m \u001b[30;48;5;208m  \u001b[0m  \u001b[30;44m  \u001b[0m \u001b[30;44m  \u001b[0m \u001b[30;44m  \u001b[0m  \n",
      "\n",
      "\u001b[0;30;40mK0\u001b[0m \u001b[0;30;40mK0\u001b[0m \u001b[0;30;40mK0\u001b[0m  \u001b[30;47m  \u001b[0m \u001b[30;47m  \u001b[0m \u001b[30;47m  \u001b[0m  \u001b[0;30;40mK0\u001b[0m \u001b[0;30;40mK0\u001b[0m \u001b[0;30;40mK0\u001b[0m  \u001b[0;30;40mK0\u001b[0m \u001b[0;30;40mK0\u001b[0m \u001b[0;30;40mK0\u001b[0m  \n",
      "\n",
      "\u001b[0;30;40mK0\u001b[0m \u001b[0;30;40mK0\u001b[0m \u001b[0;30;40mK0\u001b[0m  \u001b[30;47m  \u001b[0m \u001b[30;47m  \u001b[0m \u001b[30;47m  \u001b[0m  \u001b[0;30;40mK0\u001b[0m \u001b[0;30;40mK0\u001b[0m \u001b[0;30;40mK0\u001b[0m  \u001b[0;30;40mK0\u001b[0m \u001b[0;30;40mK0\u001b[0m \u001b[0;30;40mK0\u001b[0m  \n",
      "\n",
      "\u001b[0;30;40mK0\u001b[0m \u001b[0;30;40mK0\u001b[0m \u001b[0;30;40mK0\u001b[0m  \u001b[30;47m  \u001b[0m \u001b[30;47m  \u001b[0m \u001b[30;47m  \u001b[0m  \u001b[0;30;40mK0\u001b[0m \u001b[0;30;40mK0\u001b[0m \u001b[0;30;40mK0\u001b[0m  \u001b[0;30;40mK0\u001b[0m \u001b[0;30;40mK0\u001b[0m \u001b[0;30;40mK0\u001b[0m  \n",
      "\n",
      "Final OLL state: _YY_Y__YY__________Y________Y_______Y__________Y______\n",
      "\n",
      "\u001b[0;30;40mK0\u001b[0m \u001b[0;30;40mK0\u001b[0m \u001b[0;30;40mK0\u001b[0m  \u001b[30;44m  \u001b[0m \u001b[30;43m  \u001b[0m \u001b[30;43m  \u001b[0m  \u001b[0;30;40mK0\u001b[0m \u001b[0;30;40mK0\u001b[0m \u001b[0;30;40mK0\u001b[0m  \u001b[0;30;40mK0\u001b[0m \u001b[0;30;40mK0\u001b[0m \u001b[0;30;40mK0\u001b[0m  \n",
      "\n",
      "\u001b[0;30;40mK0\u001b[0m \u001b[0;30;40mK0\u001b[0m \u001b[0;30;40mK0\u001b[0m  \u001b[30;42m  \u001b[0m \u001b[30;43m  \u001b[0m \u001b[30;41m  \u001b[0m  \u001b[0;30;40mK0\u001b[0m \u001b[0;30;40mK0\u001b[0m \u001b[0;30;40mK0\u001b[0m  \u001b[0;30;40mK0\u001b[0m \u001b[0;30;40mK0\u001b[0m \u001b[0;30;40mK0\u001b[0m  \n",
      "\n",
      "\u001b[0;30;40mK0\u001b[0m \u001b[0;30;40mK0\u001b[0m \u001b[0;30;40mK0\u001b[0m  \u001b[30;41m  \u001b[0m \u001b[30;43m  \u001b[0m \u001b[30;43m  \u001b[0m  \u001b[0;30;40mK0\u001b[0m \u001b[0;30;40mK0\u001b[0m \u001b[0;30;40mK0\u001b[0m  \u001b[0;30;40mK0\u001b[0m \u001b[0;30;40mK0\u001b[0m \u001b[0;30;40mK0\u001b[0m  \n",
      "\n",
      "\u001b[30;48;5;208m  \u001b[0m \u001b[30;43m  \u001b[0m \u001b[30;42m  \u001b[0m  \u001b[30;43m  \u001b[0m \u001b[30;48;5;208m  \u001b[0m \u001b[30;44m  \u001b[0m  \u001b[30;41m  \u001b[0m \u001b[30;43m  \u001b[0m \u001b[30;42m  \u001b[0m  \u001b[30;48;5;208m  \u001b[0m \u001b[30;44m  \u001b[0m \u001b[30;43m  \u001b[0m  \n",
      "\n",
      "\u001b[30;44m  \u001b[0m \u001b[30;44m  \u001b[0m \u001b[30;44m  \u001b[0m  \u001b[30;41m  \u001b[0m \u001b[30;41m  \u001b[0m \u001b[30;41m  \u001b[0m  \u001b[30;42m  \u001b[0m \u001b[30;42m  \u001b[0m \u001b[30;42m  \u001b[0m  \u001b[30;48;5;208m  \u001b[0m \u001b[30;48;5;208m  \u001b[0m \u001b[30;48;5;208m  \u001b[0m  \n",
      "\n",
      "\u001b[30;44m  \u001b[0m \u001b[30;44m  \u001b[0m \u001b[30;44m  \u001b[0m  \u001b[30;41m  \u001b[0m \u001b[30;41m  \u001b[0m \u001b[30;41m  \u001b[0m  \u001b[30;42m  \u001b[0m \u001b[30;42m  \u001b[0m \u001b[30;42m  \u001b[0m  \u001b[30;48;5;208m  \u001b[0m \u001b[30;48;5;208m  \u001b[0m \u001b[30;48;5;208m  \u001b[0m  \n",
      "\n",
      "\u001b[0;30;40mK0\u001b[0m \u001b[0;30;40mK0\u001b[0m \u001b[0;30;40mK0\u001b[0m  \u001b[30;47m  \u001b[0m \u001b[30;47m  \u001b[0m \u001b[30;47m  \u001b[0m  \u001b[0;30;40mK0\u001b[0m \u001b[0;30;40mK0\u001b[0m \u001b[0;30;40mK0\u001b[0m  \u001b[0;30;40mK0\u001b[0m \u001b[0;30;40mK0\u001b[0m \u001b[0;30;40mK0\u001b[0m  \n",
      "\n",
      "\u001b[0;30;40mK0\u001b[0m \u001b[0;30;40mK0\u001b[0m \u001b[0;30;40mK0\u001b[0m  \u001b[30;47m  \u001b[0m \u001b[30;47m  \u001b[0m \u001b[30;47m  \u001b[0m  \u001b[0;30;40mK0\u001b[0m \u001b[0;30;40mK0\u001b[0m \u001b[0;30;40mK0\u001b[0m  \u001b[0;30;40mK0\u001b[0m \u001b[0;30;40mK0\u001b[0m \u001b[0;30;40mK0\u001b[0m  \n",
      "\n",
      "\u001b[0;30;40mK0\u001b[0m \u001b[0;30;40mK0\u001b[0m \u001b[0;30;40mK0\u001b[0m  \u001b[30;47m  \u001b[0m \u001b[30;47m  \u001b[0m \u001b[30;47m  \u001b[0m  \u001b[0;30;40mK0\u001b[0m \u001b[0;30;40mK0\u001b[0m \u001b[0;30;40mK0\u001b[0m  \u001b[0;30;40mK0\u001b[0m \u001b[0;30;40mK0\u001b[0m \u001b[0;30;40mK0\u001b[0m  \n",
      "\n",
      "Final OLL state: Y_YYYY______________Y______Y_________Y________Y_______\n",
      "\n",
      "\u001b[0;30;40mK0\u001b[0m \u001b[0;30;40mK0\u001b[0m \u001b[0;30;40mK0\u001b[0m  \u001b[30;43m  \u001b[0m \u001b[30;41m  \u001b[0m \u001b[30;43m  \u001b[0m  \u001b[0;30;40mK0\u001b[0m \u001b[0;30;40mK0\u001b[0m \u001b[0;30;40mK0\u001b[0m  \u001b[0;30;40mK0\u001b[0m \u001b[0;30;40mK0\u001b[0m \u001b[0;30;40mK0\u001b[0m  \n",
      "\n",
      "\u001b[0;30;40mK0\u001b[0m \u001b[0;30;40mK0\u001b[0m \u001b[0;30;40mK0\u001b[0m  \u001b[30;43m  \u001b[0m \u001b[30;43m  \u001b[0m \u001b[30;43m  \u001b[0m  \u001b[0;30;40mK0\u001b[0m \u001b[0;30;40mK0\u001b[0m \u001b[0;30;40mK0\u001b[0m  \u001b[0;30;40mK0\u001b[0m \u001b[0;30;40mK0\u001b[0m \u001b[0;30;40mK0\u001b[0m  \n",
      "\n",
      "\u001b[0;30;40mK0\u001b[0m \u001b[0;30;40mK0\u001b[0m \u001b[0;30;40mK0\u001b[0m  \u001b[30;44m  \u001b[0m \u001b[30;42m  \u001b[0m \u001b[30;41m  \u001b[0m  \u001b[0;30;40mK0\u001b[0m \u001b[0;30;40mK0\u001b[0m \u001b[0;30;40mK0\u001b[0m  \u001b[0;30;40mK0\u001b[0m \u001b[0;30;40mK0\u001b[0m \u001b[0;30;40mK0\u001b[0m  \n",
      "\n",
      "\u001b[30;48;5;208m  \u001b[0m \u001b[30;44m  \u001b[0m \u001b[30;43m  \u001b[0m  \u001b[30;48;5;208m  \u001b[0m \u001b[30;43m  \u001b[0m \u001b[30;42m  \u001b[0m  \u001b[30;43m  \u001b[0m \u001b[30;48;5;208m  \u001b[0m \u001b[30;44m  \u001b[0m  \u001b[30;41m  \u001b[0m \u001b[30;43m  \u001b[0m \u001b[30;42m  \u001b[0m  \n",
      "\n",
      "\u001b[30;48;5;208m  \u001b[0m \u001b[30;48;5;208m  \u001b[0m \u001b[30;48;5;208m  \u001b[0m  \u001b[30;44m  \u001b[0m \u001b[30;44m  \u001b[0m \u001b[30;44m  \u001b[0m  \u001b[30;41m  \u001b[0m \u001b[30;41m  \u001b[0m \u001b[30;41m  \u001b[0m  \u001b[30;42m  \u001b[0m \u001b[30;42m  \u001b[0m \u001b[30;42m  \u001b[0m  \n",
      "\n",
      "\u001b[30;48;5;208m  \u001b[0m \u001b[30;48;5;208m  \u001b[0m \u001b[30;48;5;208m  \u001b[0m  \u001b[30;44m  \u001b[0m \u001b[30;44m  \u001b[0m \u001b[30;44m  \u001b[0m  \u001b[30;41m  \u001b[0m \u001b[30;41m  \u001b[0m \u001b[30;41m  \u001b[0m  \u001b[30;42m  \u001b[0m \u001b[30;42m  \u001b[0m \u001b[30;42m  \u001b[0m  \n",
      "\n",
      "\u001b[0;30;40mK0\u001b[0m \u001b[0;30;40mK0\u001b[0m \u001b[0;30;40mK0\u001b[0m  \u001b[30;47m  \u001b[0m \u001b[30;47m  \u001b[0m \u001b[30;47m  \u001b[0m  \u001b[0;30;40mK0\u001b[0m \u001b[0;30;40mK0\u001b[0m \u001b[0;30;40mK0\u001b[0m  \u001b[0;30;40mK0\u001b[0m \u001b[0;30;40mK0\u001b[0m \u001b[0;30;40mK0\u001b[0m  \n",
      "\n",
      "\u001b[0;30;40mK0\u001b[0m \u001b[0;30;40mK0\u001b[0m \u001b[0;30;40mK0\u001b[0m  \u001b[30;47m  \u001b[0m \u001b[30;47m  \u001b[0m \u001b[30;47m  \u001b[0m  \u001b[0;30;40mK0\u001b[0m \u001b[0;30;40mK0\u001b[0m \u001b[0;30;40mK0\u001b[0m  \u001b[0;30;40mK0\u001b[0m \u001b[0;30;40mK0\u001b[0m \u001b[0;30;40mK0\u001b[0m  \n",
      "\n",
      "\u001b[0;30;40mK0\u001b[0m \u001b[0;30;40mK0\u001b[0m \u001b[0;30;40mK0\u001b[0m  \u001b[30;47m  \u001b[0m \u001b[30;47m  \u001b[0m \u001b[30;47m  \u001b[0m  \u001b[0;30;40mK0\u001b[0m \u001b[0;30;40mK0\u001b[0m \u001b[0;30;40mK0\u001b[0m  \u001b[0;30;40mK0\u001b[0m \u001b[0;30;40mK0\u001b[0m \u001b[0;30;40mK0\u001b[0m  \n",
      "\n",
      "Final OLL state: YY__Y_YY___________Y________Y_________Y______Y________\n",
      "\n",
      "\u001b[0;30;40mK0\u001b[0m \u001b[0;30;40mK0\u001b[0m \u001b[0;30;40mK0\u001b[0m  \u001b[30;43m  \u001b[0m \u001b[30;43m  \u001b[0m \u001b[30;41m  \u001b[0m  \u001b[0;30;40mK0\u001b[0m \u001b[0;30;40mK0\u001b[0m \u001b[0;30;40mK0\u001b[0m  \u001b[0;30;40mK0\u001b[0m \u001b[0;30;40mK0\u001b[0m \u001b[0;30;40mK0\u001b[0m  \n",
      "\n",
      "\u001b[0;30;40mK0\u001b[0m \u001b[0;30;40mK0\u001b[0m \u001b[0;30;40mK0\u001b[0m  \u001b[30;41m  \u001b[0m \u001b[30;43m  \u001b[0m \u001b[30;42m  \u001b[0m  \u001b[0;30;40mK0\u001b[0m \u001b[0;30;40mK0\u001b[0m \u001b[0;30;40mK0\u001b[0m  \u001b[0;30;40mK0\u001b[0m \u001b[0;30;40mK0\u001b[0m \u001b[0;30;40mK0\u001b[0m  \n",
      "\n",
      "\u001b[0;30;40mK0\u001b[0m \u001b[0;30;40mK0\u001b[0m \u001b[0;30;40mK0\u001b[0m  \u001b[30;43m  \u001b[0m \u001b[30;43m  \u001b[0m \u001b[30;44m  \u001b[0m  \u001b[0;30;40mK0\u001b[0m \u001b[0;30;40mK0\u001b[0m \u001b[0;30;40mK0\u001b[0m  \u001b[0;30;40mK0\u001b[0m \u001b[0;30;40mK0\u001b[0m \u001b[0;30;40mK0\u001b[0m  \n",
      "\n",
      "\u001b[30;41m  \u001b[0m \u001b[30;43m  \u001b[0m \u001b[30;42m  \u001b[0m  \u001b[30;48;5;208m  \u001b[0m \u001b[30;44m  \u001b[0m \u001b[30;43m  \u001b[0m  \u001b[30;48;5;208m  \u001b[0m \u001b[30;43m  \u001b[0m \u001b[30;42m  \u001b[0m  \u001b[30;43m  \u001b[0m \u001b[30;48;5;208m  \u001b[0m \u001b[30;44m  \u001b[0m  \n",
      "\n",
      "\u001b[30;42m  \u001b[0m \u001b[30;42m  \u001b[0m \u001b[30;42m  \u001b[0m  \u001b[30;48;5;208m  \u001b[0m \u001b[30;48;5;208m  \u001b[0m \u001b[30;48;5;208m  \u001b[0m  \u001b[30;44m  \u001b[0m \u001b[30;44m  \u001b[0m \u001b[30;44m  \u001b[0m  \u001b[30;41m  \u001b[0m \u001b[30;41m  \u001b[0m \u001b[30;41m  \u001b[0m  \n",
      "\n",
      "\u001b[30;42m  \u001b[0m \u001b[30;42m  \u001b[0m \u001b[30;42m  \u001b[0m  \u001b[30;48;5;208m  \u001b[0m \u001b[30;48;5;208m  \u001b[0m \u001b[30;48;5;208m  \u001b[0m  \u001b[30;44m  \u001b[0m \u001b[30;44m  \u001b[0m \u001b[30;44m  \u001b[0m  \u001b[30;41m  \u001b[0m \u001b[30;41m  \u001b[0m \u001b[30;41m  \u001b[0m  \n",
      "\n",
      "\u001b[0;30;40mK0\u001b[0m \u001b[0;30;40mK0\u001b[0m \u001b[0;30;40mK0\u001b[0m  \u001b[30;47m  \u001b[0m \u001b[30;47m  \u001b[0m \u001b[30;47m  \u001b[0m  \u001b[0;30;40mK0\u001b[0m \u001b[0;30;40mK0\u001b[0m \u001b[0;30;40mK0\u001b[0m  \u001b[0;30;40mK0\u001b[0m \u001b[0;30;40mK0\u001b[0m \u001b[0;30;40mK0\u001b[0m  \n",
      "\n",
      "\u001b[0;30;40mK0\u001b[0m \u001b[0;30;40mK0\u001b[0m \u001b[0;30;40mK0\u001b[0m  \u001b[30;47m  \u001b[0m \u001b[30;47m  \u001b[0m \u001b[30;47m  \u001b[0m  \u001b[0;30;40mK0\u001b[0m \u001b[0;30;40mK0\u001b[0m \u001b[0;30;40mK0\u001b[0m  \u001b[0;30;40mK0\u001b[0m \u001b[0;30;40mK0\u001b[0m \u001b[0;30;40mK0\u001b[0m  \n",
      "\n",
      "\u001b[0;30;40mK0\u001b[0m \u001b[0;30;40mK0\u001b[0m \u001b[0;30;40mK0\u001b[0m  \u001b[30;47m  \u001b[0m \u001b[30;47m  \u001b[0m \u001b[30;47m  \u001b[0m  \u001b[0;30;40mK0\u001b[0m \u001b[0;30;40mK0\u001b[0m \u001b[0;30;40mK0\u001b[0m  \u001b[0;30;40mK0\u001b[0m \u001b[0;30;40mK0\u001b[0m \u001b[0;30;40mK0\u001b[0m  \n",
      "\n"
     ]
    }
   ],
   "source": [
    "cube.load(\"WWWWWWWWWYYRRYGYYBGGGGGGGYRBBBBBBGYORRRRRRBOYOOOOOOYBO\")\n",
    "solver.invert_cube()\n",
    "for _ in range(4):\n",
    "    cube.rotate_cube(axis='y', clockwise=False)\n",
    "    state = solver._oll_get_state()\n",
    "    print(f\"Final OLL state: {state}\")\n",
    "    print_color_cube(cube)\n",
    "\n"
   ]
  },
  {
   "cell_type": "code",
   "execution_count": 13,
   "id": "e1309802",
   "metadata": {},
   "outputs": [
    {
     "name": "stdout",
     "output_type": "stream",
     "text": [
      "\n",
      "\u001b[0;30;40mK0\u001b[0m \u001b[0;30;40mK0\u001b[0m \u001b[0;30;40mK0\u001b[0m  \u001b[30;47m  \u001b[0m \u001b[30;47m  \u001b[0m \u001b[30;47m  \u001b[0m  \u001b[0;30;40mK0\u001b[0m \u001b[0;30;40mK0\u001b[0m \u001b[0;30;40mK0\u001b[0m  \u001b[0;30;40mK0\u001b[0m \u001b[0;30;40mK0\u001b[0m \u001b[0;30;40mK0\u001b[0m  \n",
      "\n",
      "\u001b[0;30;40mK0\u001b[0m \u001b[0;30;40mK0\u001b[0m \u001b[0;30;40mK0\u001b[0m  \u001b[30;47m  \u001b[0m \u001b[30;47m  \u001b[0m \u001b[30;47m  \u001b[0m  \u001b[0;30;40mK0\u001b[0m \u001b[0;30;40mK0\u001b[0m \u001b[0;30;40mK0\u001b[0m  \u001b[0;30;40mK0\u001b[0m \u001b[0;30;40mK0\u001b[0m \u001b[0;30;40mK0\u001b[0m  \n",
      "\n",
      "\u001b[0;30;40mK0\u001b[0m \u001b[0;30;40mK0\u001b[0m \u001b[0;30;40mK0\u001b[0m  \u001b[30;47m  \u001b[0m \u001b[30;47m  \u001b[0m \u001b[30;47m  \u001b[0m  \u001b[0;30;40mK0\u001b[0m \u001b[0;30;40mK0\u001b[0m \u001b[0;30;40mK0\u001b[0m  \u001b[0;30;40mK0\u001b[0m \u001b[0;30;40mK0\u001b[0m \u001b[0;30;40mK0\u001b[0m  \n",
      "\n",
      "\u001b[30;42m  \u001b[0m \u001b[30;42m  \u001b[0m \u001b[30;42m  \u001b[0m  \u001b[30;41m  \u001b[0m \u001b[30;41m  \u001b[0m \u001b[30;41m  \u001b[0m  \u001b[30;44m  \u001b[0m \u001b[30;44m  \u001b[0m \u001b[30;44m  \u001b[0m  \u001b[30;48;5;208m  \u001b[0m \u001b[30;48;5;208m  \u001b[0m \u001b[30;48;5;208m  \u001b[0m  \n",
      "\n",
      "\u001b[30;42m  \u001b[0m \u001b[30;42m  \u001b[0m \u001b[30;42m  \u001b[0m  \u001b[30;41m  \u001b[0m \u001b[30;41m  \u001b[0m \u001b[30;41m  \u001b[0m  \u001b[30;44m  \u001b[0m \u001b[30;44m  \u001b[0m \u001b[30;44m  \u001b[0m  \u001b[30;48;5;208m  \u001b[0m \u001b[30;48;5;208m  \u001b[0m \u001b[30;48;5;208m  \u001b[0m  \n",
      "\n",
      "\u001b[30;42m  \u001b[0m \u001b[30;42m  \u001b[0m \u001b[30;44m  \u001b[0m  \u001b[30;48;5;208m  \u001b[0m \u001b[30;48;5;208m  \u001b[0m \u001b[30;41m  \u001b[0m  \u001b[30;44m  \u001b[0m \u001b[30;44m  \u001b[0m \u001b[30;42m  \u001b[0m  \u001b[30;41m  \u001b[0m \u001b[30;41m  \u001b[0m \u001b[30;48;5;208m  \u001b[0m  \n",
      "\n",
      "\u001b[0;30;40mK0\u001b[0m \u001b[0;30;40mK0\u001b[0m \u001b[0;30;40mK0\u001b[0m  \u001b[30;43m  \u001b[0m \u001b[30;43m  \u001b[0m \u001b[30;43m  \u001b[0m  \u001b[0;30;40mK0\u001b[0m \u001b[0;30;40mK0\u001b[0m \u001b[0;30;40mK0\u001b[0m  \u001b[0;30;40mK0\u001b[0m \u001b[0;30;40mK0\u001b[0m \u001b[0;30;40mK0\u001b[0m  \n",
      "\n",
      "\u001b[0;30;40mK0\u001b[0m \u001b[0;30;40mK0\u001b[0m \u001b[0;30;40mK0\u001b[0m  \u001b[30;43m  \u001b[0m \u001b[30;43m  \u001b[0m \u001b[30;43m  \u001b[0m  \u001b[0;30;40mK0\u001b[0m \u001b[0;30;40mK0\u001b[0m \u001b[0;30;40mK0\u001b[0m  \u001b[0;30;40mK0\u001b[0m \u001b[0;30;40mK0\u001b[0m \u001b[0;30;40mK0\u001b[0m  \n",
      "\n",
      "\u001b[0;30;40mK0\u001b[0m \u001b[0;30;40mK0\u001b[0m \u001b[0;30;40mK0\u001b[0m  \u001b[30;43m  \u001b[0m \u001b[30;43m  \u001b[0m \u001b[30;43m  \u001b[0m  \u001b[0;30;40mK0\u001b[0m \u001b[0;30;40mK0\u001b[0m \u001b[0;30;40mK0\u001b[0m  \u001b[0;30;40mK0\u001b[0m \u001b[0;30;40mK0\u001b[0m \u001b[0;30;40mK0\u001b[0m  \n",
      "\n"
     ]
    }
   ],
   "source": [
    "solver.oll()\n",
    "print_color_cube(cube)"
   ]
  },
  {
   "cell_type": "code",
   "execution_count": 15,
   "id": "e9dd0ed4",
   "metadata": {},
   "outputs": [
    {
     "name": "stdout",
     "output_type": "stream",
     "text": [
      "\n",
      "\u001b[0;30;40mK0\u001b[0m \u001b[0;30;40mK0\u001b[0m \u001b[0;30;40mK0\u001b[0m  \u001b[30;47m  \u001b[0m \u001b[30;47m  \u001b[0m \u001b[30;47m  \u001b[0m  \u001b[0;30;40mK0\u001b[0m \u001b[0;30;40mK0\u001b[0m \u001b[0;30;40mK0\u001b[0m  \u001b[0;30;40mK0\u001b[0m \u001b[0;30;40mK0\u001b[0m \u001b[0;30;40mK0\u001b[0m  \n",
      "\n",
      "\u001b[0;30;40mK0\u001b[0m \u001b[0;30;40mK0\u001b[0m \u001b[0;30;40mK0\u001b[0m  \u001b[30;47m  \u001b[0m \u001b[30;47m  \u001b[0m \u001b[30;47m  \u001b[0m  \u001b[0;30;40mK0\u001b[0m \u001b[0;30;40mK0\u001b[0m \u001b[0;30;40mK0\u001b[0m  \u001b[0;30;40mK0\u001b[0m \u001b[0;30;40mK0\u001b[0m \u001b[0;30;40mK0\u001b[0m  \n",
      "\n",
      "\u001b[0;30;40mK0\u001b[0m \u001b[0;30;40mK0\u001b[0m \u001b[0;30;40mK0\u001b[0m  \u001b[30;47m  \u001b[0m \u001b[30;47m  \u001b[0m \u001b[30;47m  \u001b[0m  \u001b[0;30;40mK0\u001b[0m \u001b[0;30;40mK0\u001b[0m \u001b[0;30;40mK0\u001b[0m  \u001b[0;30;40mK0\u001b[0m \u001b[0;30;40mK0\u001b[0m \u001b[0;30;40mK0\u001b[0m  \n",
      "\n",
      "\u001b[30;42m  \u001b[0m \u001b[30;42m  \u001b[0m \u001b[30;42m  \u001b[0m  \u001b[30;41m  \u001b[0m \u001b[30;41m  \u001b[0m \u001b[30;41m  \u001b[0m  \u001b[30;44m  \u001b[0m \u001b[30;44m  \u001b[0m \u001b[30;44m  \u001b[0m  \u001b[30;48;5;208m  \u001b[0m \u001b[30;48;5;208m  \u001b[0m \u001b[30;48;5;208m  \u001b[0m  \n",
      "\n",
      "\u001b[30;42m  \u001b[0m \u001b[30;42m  \u001b[0m \u001b[30;42m  \u001b[0m  \u001b[30;41m  \u001b[0m \u001b[30;41m  \u001b[0m \u001b[30;41m  \u001b[0m  \u001b[30;44m  \u001b[0m \u001b[30;44m  \u001b[0m \u001b[30;44m  \u001b[0m  \u001b[30;48;5;208m  \u001b[0m \u001b[30;48;5;208m  \u001b[0m \u001b[30;48;5;208m  \u001b[0m  \n",
      "\n",
      "\u001b[30;42m  \u001b[0m \u001b[30;42m  \u001b[0m \u001b[30;44m  \u001b[0m  \u001b[30;48;5;208m  \u001b[0m \u001b[30;48;5;208m  \u001b[0m \u001b[30;41m  \u001b[0m  \u001b[30;44m  \u001b[0m \u001b[30;44m  \u001b[0m \u001b[30;42m  \u001b[0m  \u001b[30;41m  \u001b[0m \u001b[30;41m  \u001b[0m \u001b[30;48;5;208m  \u001b[0m  \n",
      "\n",
      "\u001b[0;30;40mK0\u001b[0m \u001b[0;30;40mK0\u001b[0m \u001b[0;30;40mK0\u001b[0m  \u001b[30;43m  \u001b[0m \u001b[30;43m  \u001b[0m \u001b[30;43m  \u001b[0m  \u001b[0;30;40mK0\u001b[0m \u001b[0;30;40mK0\u001b[0m \u001b[0;30;40mK0\u001b[0m  \u001b[0;30;40mK0\u001b[0m \u001b[0;30;40mK0\u001b[0m \u001b[0;30;40mK0\u001b[0m  \n",
      "\n",
      "\u001b[0;30;40mK0\u001b[0m \u001b[0;30;40mK0\u001b[0m \u001b[0;30;40mK0\u001b[0m  \u001b[30;43m  \u001b[0m \u001b[30;43m  \u001b[0m \u001b[30;43m  \u001b[0m  \u001b[0;30;40mK0\u001b[0m \u001b[0;30;40mK0\u001b[0m \u001b[0;30;40mK0\u001b[0m  \u001b[0;30;40mK0\u001b[0m \u001b[0;30;40mK0\u001b[0m \u001b[0;30;40mK0\u001b[0m  \n",
      "\n",
      "\u001b[0;30;40mK0\u001b[0m \u001b[0;30;40mK0\u001b[0m \u001b[0;30;40mK0\u001b[0m  \u001b[30;43m  \u001b[0m \u001b[30;43m  \u001b[0m \u001b[30;43m  \u001b[0m  \u001b[0;30;40mK0\u001b[0m \u001b[0;30;40mK0\u001b[0m \u001b[0;30;40mK0\u001b[0m  \u001b[0;30;40mK0\u001b[0m \u001b[0;30;40mK0\u001b[0m \u001b[0;30;40mK0\u001b[0m  \n",
      "\n",
      "WWWWWWWWWYYYYYYYYYGGGGGGGGBBBBBBBBBGRRRRRROOROOOOOORRO\n"
     ]
    }
   ],
   "source": [
    "# cube.sequence(\"S S\")\n",
    "# cube.rotate_cube(axis='y', clockwise=True)\n",
    "# cube.sequence(\"U2 l' L2 U L' U L U2 L' U\")\n",
    "print_color_cube(cube)\n",
    "print(cube)"
   ]
  },
  {
   "cell_type": "code",
   "execution_count": null,
   "id": "66e3229c",
   "metadata": {},
   "outputs": [],
   "source": []
  }
 ],
 "metadata": {
  "kernelspec": {
   "display_name": ".venv",
   "language": "python",
   "name": "python3"
  },
  "language_info": {
   "codemirror_mode": {
    "name": "ipython",
    "version": 3
   },
   "file_extension": ".py",
   "mimetype": "text/x-python",
   "name": "python",
   "nbconvert_exporter": "python",
   "pygments_lexer": "ipython3",
   "version": "3.12.10"
  }
 },
 "nbformat": 4,
 "nbformat_minor": 5
}
