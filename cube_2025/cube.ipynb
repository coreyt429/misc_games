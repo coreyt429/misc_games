{
 "cells": [
  {
   "cell_type": "code",
   "execution_count": 2,
   "id": "3ba40b0c",
   "metadata": {},
   "outputs": [],
   "source": [
    "from cube import Cube\n",
    "from solver import Solver\n",
    "from visualize import print_color_cube\n"
   ]
  },
  {
   "cell_type": "code",
   "execution_count": 3,
   "id": "c0ddde7f",
   "metadata": {},
   "outputs": [
    {
     "name": "stdout",
     "output_type": "stream",
     "text": [
      "Welcome to the Rubik's Cube Solver!\n"
     ]
    }
   ],
   "source": [
    "cube = Cube()\n",
    "solver = Solver(cube)\n",
    "print(\"Welcome to the Rubik's Cube Solver!\")"
   ]
  },
  {
   "cell_type": "code",
   "execution_count": 4,
   "id": "7ba49294",
   "metadata": {},
   "outputs": [
    {
     "name": "stdout",
     "output_type": "stream",
     "text": [
      "\n",
      "\u001b[0;30;40mK0\u001b[0m \u001b[0;30;40mK0\u001b[0m \u001b[0;30;40mK0\u001b[0m  \u001b[30;47m  \u001b[0m \u001b[30;47m  \u001b[0m \u001b[30;47m  \u001b[0m  \u001b[0;30;40mK0\u001b[0m \u001b[0;30;40mK0\u001b[0m \u001b[0;30;40mK0\u001b[0m  \u001b[0;30;40mK0\u001b[0m \u001b[0;30;40mK0\u001b[0m \u001b[0;30;40mK0\u001b[0m  \n",
      "\n",
      "\u001b[0;30;40mK0\u001b[0m \u001b[0;30;40mK0\u001b[0m \u001b[0;30;40mK0\u001b[0m  \u001b[30;47m  \u001b[0m \u001b[30;47m  \u001b[0m \u001b[30;47m  \u001b[0m  \u001b[0;30;40mK0\u001b[0m \u001b[0;30;40mK0\u001b[0m \u001b[0;30;40mK0\u001b[0m  \u001b[0;30;40mK0\u001b[0m \u001b[0;30;40mK0\u001b[0m \u001b[0;30;40mK0\u001b[0m  \n",
      "\n",
      "\u001b[0;30;40mK0\u001b[0m \u001b[0;30;40mK0\u001b[0m \u001b[0;30;40mK0\u001b[0m  \u001b[30;47m  \u001b[0m \u001b[30;47m  \u001b[0m \u001b[30;47m  \u001b[0m  \u001b[0;30;40mK0\u001b[0m \u001b[0;30;40mK0\u001b[0m \u001b[0;30;40mK0\u001b[0m  \u001b[0;30;40mK0\u001b[0m \u001b[0;30;40mK0\u001b[0m \u001b[0;30;40mK0\u001b[0m  \n",
      "\n",
      "\u001b[30;42m  \u001b[0m \u001b[30;42m  \u001b[0m \u001b[30;42m  \u001b[0m  \u001b[30;41m  \u001b[0m \u001b[30;41m  \u001b[0m \u001b[30;41m  \u001b[0m  \u001b[30;44m  \u001b[0m \u001b[30;44m  \u001b[0m \u001b[30;44m  \u001b[0m  \u001b[30;48;5;208m  \u001b[0m \u001b[30;48;5;208m  \u001b[0m \u001b[30;48;5;208m  \u001b[0m  \n",
      "\n",
      "\u001b[30;42m  \u001b[0m \u001b[30;42m  \u001b[0m \u001b[30;42m  \u001b[0m  \u001b[30;41m  \u001b[0m \u001b[30;41m  \u001b[0m \u001b[30;41m  \u001b[0m  \u001b[30;44m  \u001b[0m \u001b[30;44m  \u001b[0m \u001b[30;44m  \u001b[0m  \u001b[30;48;5;208m  \u001b[0m \u001b[30;48;5;208m  \u001b[0m \u001b[30;48;5;208m  \u001b[0m  \n",
      "\n",
      "\u001b[30;42m  \u001b[0m \u001b[30;42m  \u001b[0m \u001b[30;42m  \u001b[0m  \u001b[30;41m  \u001b[0m \u001b[30;41m  \u001b[0m \u001b[30;41m  \u001b[0m  \u001b[30;44m  \u001b[0m \u001b[30;44m  \u001b[0m \u001b[30;44m  \u001b[0m  \u001b[30;48;5;208m  \u001b[0m \u001b[30;48;5;208m  \u001b[0m \u001b[30;48;5;208m  \u001b[0m  \n",
      "\n",
      "\u001b[0;30;40mK0\u001b[0m \u001b[0;30;40mK0\u001b[0m \u001b[0;30;40mK0\u001b[0m  \u001b[30;43m  \u001b[0m \u001b[30;43m  \u001b[0m \u001b[30;43m  \u001b[0m  \u001b[0;30;40mK0\u001b[0m \u001b[0;30;40mK0\u001b[0m \u001b[0;30;40mK0\u001b[0m  \u001b[0;30;40mK0\u001b[0m \u001b[0;30;40mK0\u001b[0m \u001b[0;30;40mK0\u001b[0m  \n",
      "\n",
      "\u001b[0;30;40mK0\u001b[0m \u001b[0;30;40mK0\u001b[0m \u001b[0;30;40mK0\u001b[0m  \u001b[30;43m  \u001b[0m \u001b[30;43m  \u001b[0m \u001b[30;43m  \u001b[0m  \u001b[0;30;40mK0\u001b[0m \u001b[0;30;40mK0\u001b[0m \u001b[0;30;40mK0\u001b[0m  \u001b[0;30;40mK0\u001b[0m \u001b[0;30;40mK0\u001b[0m \u001b[0;30;40mK0\u001b[0m  \n",
      "\n",
      "\u001b[0;30;40mK0\u001b[0m \u001b[0;30;40mK0\u001b[0m \u001b[0;30;40mK0\u001b[0m  \u001b[30;43m  \u001b[0m \u001b[30;43m  \u001b[0m \u001b[30;43m  \u001b[0m  \u001b[0;30;40mK0\u001b[0m \u001b[0;30;40mK0\u001b[0m \u001b[0;30;40mK0\u001b[0m  \u001b[0;30;40mK0\u001b[0m \u001b[0;30;40mK0\u001b[0m \u001b[0;30;40mK0\u001b[0m  \n",
      "\n"
     ]
    }
   ],
   "source": [
    "print_color_cube(cube)"
   ]
  },
  {
   "cell_type": "code",
   "execution_count": 5,
   "id": "34a370cd",
   "metadata": {},
   "outputs": [
    {
     "name": "stdout",
     "output_type": "stream",
     "text": [
      "\n",
      "\u001b[0;30;40mK0\u001b[0m \u001b[0;30;40mK0\u001b[0m \u001b[0;30;40mK0\u001b[0m  \u001b[30;43m  \u001b[0m \u001b[30;44m  \u001b[0m \u001b[30;47m  \u001b[0m  \u001b[0;30;40mK0\u001b[0m \u001b[0;30;40mK0\u001b[0m \u001b[0;30;40mK0\u001b[0m  \u001b[0;30;40mK0\u001b[0m \u001b[0;30;40mK0\u001b[0m \u001b[0;30;40mK0\u001b[0m  \n",
      "\n",
      "\u001b[0;30;40mK0\u001b[0m \u001b[0;30;40mK0\u001b[0m \u001b[0;30;40mK0\u001b[0m  \u001b[30;41m  \u001b[0m \u001b[30;47m  \u001b[0m \u001b[30;48;5;208m  \u001b[0m  \u001b[0;30;40mK0\u001b[0m \u001b[0;30;40mK0\u001b[0m \u001b[0;30;40mK0\u001b[0m  \u001b[0;30;40mK0\u001b[0m \u001b[0;30;40mK0\u001b[0m \u001b[0;30;40mK0\u001b[0m  \n",
      "\n",
      "\u001b[0;30;40mK0\u001b[0m \u001b[0;30;40mK0\u001b[0m \u001b[0;30;40mK0\u001b[0m  \u001b[30;48;5;208m  \u001b[0m \u001b[30;48;5;208m  \u001b[0m \u001b[30;41m  \u001b[0m  \u001b[0;30;40mK0\u001b[0m \u001b[0;30;40mK0\u001b[0m \u001b[0;30;40mK0\u001b[0m  \u001b[0;30;40mK0\u001b[0m \u001b[0;30;40mK0\u001b[0m \u001b[0;30;40mK0\u001b[0m  \n",
      "\n",
      "\u001b[30;48;5;208m  \u001b[0m \u001b[30;43m  \u001b[0m \u001b[30;42m  \u001b[0m  \u001b[30;47m  \u001b[0m \u001b[30;47m  \u001b[0m \u001b[30;42m  \u001b[0m  \u001b[30;43m  \u001b[0m \u001b[30;43m  \u001b[0m \u001b[30;41m  \u001b[0m  \u001b[30;44m  \u001b[0m \u001b[30;48;5;208m  \u001b[0m \u001b[30;42m  \u001b[0m  \n",
      "\n",
      "\u001b[30;41m  \u001b[0m \u001b[30;42m  \u001b[0m \u001b[30;41m  \u001b[0m  \u001b[30;42m  \u001b[0m \u001b[30;41m  \u001b[0m \u001b[30;47m  \u001b[0m  \u001b[30;44m  \u001b[0m \u001b[30;44m  \u001b[0m \u001b[30;48;5;208m  \u001b[0m  \u001b[30;42m  \u001b[0m \u001b[30;48;5;208m  \u001b[0m \u001b[30;47m  \u001b[0m  \n",
      "\n",
      "\u001b[30;44m  \u001b[0m \u001b[30;42m  \u001b[0m \u001b[30;41m  \u001b[0m  \u001b[30;42m  \u001b[0m \u001b[30;43m  \u001b[0m \u001b[30;44m  \u001b[0m  \u001b[30;48;5;208m  \u001b[0m \u001b[30;42m  \u001b[0m \u001b[30;43m  \u001b[0m  \u001b[30;41m  \u001b[0m \u001b[30;41m  \u001b[0m \u001b[30;48;5;208m  \u001b[0m  \n",
      "\n",
      "\u001b[0;30;40mK0\u001b[0m \u001b[0;30;40mK0\u001b[0m \u001b[0;30;40mK0\u001b[0m  \u001b[30;47m  \u001b[0m \u001b[30;44m  \u001b[0m \u001b[30;43m  \u001b[0m  \u001b[0;30;40mK0\u001b[0m \u001b[0;30;40mK0\u001b[0m \u001b[0;30;40mK0\u001b[0m  \u001b[0;30;40mK0\u001b[0m \u001b[0;30;40mK0\u001b[0m \u001b[0;30;40mK0\u001b[0m  \n",
      "\n",
      "\u001b[0;30;40mK0\u001b[0m \u001b[0;30;40mK0\u001b[0m \u001b[0;30;40mK0\u001b[0m  \u001b[30;47m  \u001b[0m \u001b[30;43m  \u001b[0m \u001b[30;43m  \u001b[0m  \u001b[0;30;40mK0\u001b[0m \u001b[0;30;40mK0\u001b[0m \u001b[0;30;40mK0\u001b[0m  \u001b[0;30;40mK0\u001b[0m \u001b[0;30;40mK0\u001b[0m \u001b[0;30;40mK0\u001b[0m  \n",
      "\n",
      "\u001b[0;30;40mK0\u001b[0m \u001b[0;30;40mK0\u001b[0m \u001b[0;30;40mK0\u001b[0m  \u001b[30;47m  \u001b[0m \u001b[30;44m  \u001b[0m \u001b[30;44m  \u001b[0m  \u001b[0;30;40mK0\u001b[0m \u001b[0;30;40mK0\u001b[0m \u001b[0;30;40mK0\u001b[0m  \u001b[0;30;40mK0\u001b[0m \u001b[0;30;40mK0\u001b[0m \u001b[0;30;40mK0\u001b[0m  \n",
      "\n"
     ]
    }
   ],
   "source": [
    "cube.scramble()\n",
    "print_color_cube(cube)"
   ]
  },
  {
   "cell_type": "code",
   "execution_count": 6,
   "id": "f00cb6dd",
   "metadata": {},
   "outputs": [
    {
     "name": "stdout",
     "output_type": "stream",
     "text": [
      "\n",
      "\u001b[0;30;40mK0\u001b[0m \u001b[0;30;40mK0\u001b[0m \u001b[0;30;40mK0\u001b[0m  \u001b[30;42m  \u001b[0m \u001b[30;47m  \u001b[0m \u001b[30;42m  \u001b[0m  \u001b[0;30;40mK0\u001b[0m \u001b[0;30;40mK0\u001b[0m \u001b[0;30;40mK0\u001b[0m  \u001b[0;30;40mK0\u001b[0m \u001b[0;30;40mK0\u001b[0m \u001b[0;30;40mK0\u001b[0m  \n",
      "\n",
      "\u001b[0;30;40mK0\u001b[0m \u001b[0;30;40mK0\u001b[0m \u001b[0;30;40mK0\u001b[0m  \u001b[30;47m  \u001b[0m \u001b[30;47m  \u001b[0m \u001b[30;47m  \u001b[0m  \u001b[0;30;40mK0\u001b[0m \u001b[0;30;40mK0\u001b[0m \u001b[0;30;40mK0\u001b[0m  \u001b[0;30;40mK0\u001b[0m \u001b[0;30;40mK0\u001b[0m \u001b[0;30;40mK0\u001b[0m  \n",
      "\n",
      "\u001b[0;30;40mK0\u001b[0m \u001b[0;30;40mK0\u001b[0m \u001b[0;30;40mK0\u001b[0m  \u001b[30;47m  \u001b[0m \u001b[30;47m  \u001b[0m \u001b[30;41m  \u001b[0m  \u001b[0;30;40mK0\u001b[0m \u001b[0;30;40mK0\u001b[0m \u001b[0;30;40mK0\u001b[0m  \u001b[0;30;40mK0\u001b[0m \u001b[0;30;40mK0\u001b[0m \u001b[0;30;40mK0\u001b[0m  \n",
      "\n",
      "\u001b[30;43m  \u001b[0m \u001b[30;42m  \u001b[0m \u001b[30;48;5;208m  \u001b[0m  \u001b[30;42m  \u001b[0m \u001b[30;41m  \u001b[0m \u001b[30;47m  \u001b[0m  \u001b[30;42m  \u001b[0m \u001b[30;44m  \u001b[0m \u001b[30;43m  \u001b[0m  \u001b[30;41m  \u001b[0m \u001b[30;48;5;208m  \u001b[0m \u001b[30;48;5;208m  \u001b[0m  \n",
      "\n",
      "\u001b[30;43m  \u001b[0m \u001b[30;42m  \u001b[0m \u001b[30;43m  \u001b[0m  \u001b[30;48;5;208m  \u001b[0m \u001b[30;41m  \u001b[0m \u001b[30;48;5;208m  \u001b[0m  \u001b[30;44m  \u001b[0m \u001b[30;44m  \u001b[0m \u001b[30;43m  \u001b[0m  \u001b[30;42m  \u001b[0m \u001b[30;48;5;208m  \u001b[0m \u001b[30;44m  \u001b[0m  \n",
      "\n",
      "\u001b[30;44m  \u001b[0m \u001b[30;43m  \u001b[0m \u001b[30;47m  \u001b[0m  \u001b[30;44m  \u001b[0m \u001b[30;44m  \u001b[0m \u001b[30;44m  \u001b[0m  \u001b[30;47m  \u001b[0m \u001b[30;42m  \u001b[0m \u001b[30;43m  \u001b[0m  \u001b[30;44m  \u001b[0m \u001b[30;42m  \u001b[0m \u001b[30;41m  \u001b[0m  \n",
      "\n",
      "\u001b[0;30;40mK0\u001b[0m \u001b[0;30;40mK0\u001b[0m \u001b[0;30;40mK0\u001b[0m  \u001b[30;41m  \u001b[0m \u001b[30;41m  \u001b[0m \u001b[30;48;5;208m  \u001b[0m  \u001b[0;30;40mK0\u001b[0m \u001b[0;30;40mK0\u001b[0m \u001b[0;30;40mK0\u001b[0m  \u001b[0;30;40mK0\u001b[0m \u001b[0;30;40mK0\u001b[0m \u001b[0;30;40mK0\u001b[0m  \n",
      "\n",
      "\u001b[0;30;40mK0\u001b[0m \u001b[0;30;40mK0\u001b[0m \u001b[0;30;40mK0\u001b[0m  \u001b[30;41m  \u001b[0m \u001b[30;43m  \u001b[0m \u001b[30;41m  \u001b[0m  \u001b[0;30;40mK0\u001b[0m \u001b[0;30;40mK0\u001b[0m \u001b[0;30;40mK0\u001b[0m  \u001b[0;30;40mK0\u001b[0m \u001b[0;30;40mK0\u001b[0m \u001b[0;30;40mK0\u001b[0m  \n",
      "\n",
      "\u001b[0;30;40mK0\u001b[0m \u001b[0;30;40mK0\u001b[0m \u001b[0;30;40mK0\u001b[0m  \u001b[30;43m  \u001b[0m \u001b[30;48;5;208m  \u001b[0m \u001b[30;48;5;208m  \u001b[0m  \u001b[0;30;40mK0\u001b[0m \u001b[0;30;40mK0\u001b[0m \u001b[0;30;40mK0\u001b[0m  \u001b[0;30;40mK0\u001b[0m \u001b[0;30;40mK0\u001b[0m \u001b[0;30;40mK0\u001b[0m  \n",
      "\n"
     ]
    }
   ],
   "source": [
    "solver.cross()\n",
    "print_color_cube(cube)"
   ]
  },
  {
   "cell_type": "code",
   "execution_count": 7,
   "id": "0ecfd8db",
   "metadata": {},
   "outputs": [
    {
     "name": "stdout",
     "output_type": "stream",
     "text": [
      "white_corners: [Cubie(color=('W', 'R', 'G'), position=UFR, orientation=1), Cubie(color=('W', 'B', 'R'), position=DFL, orientation=1), Cubie(color=('W', 'O', 'B'), position=DFR, orientation=0), Cubie(color=('W', 'G', 'O'), position=UFL, orientation=0)]\n",
      "target_edges: [Cubie(color=('R', 'G'), position=DR, orientation=0), Cubie(color=('R', 'B'), position=DF, orientation=0), Cubie(color=('O', 'G'), position=DB, orientation=0), Cubie(color=('O', 'B'), position=FR, orientation=0)]\n"
     ]
    }
   ],
   "source": [
    "solver.f2l()"
   ]
  },
  {
   "cell_type": "code",
   "execution_count": null,
   "id": "536f88ab",
   "metadata": {},
   "outputs": [],
   "source": []
  }
 ],
 "metadata": {
  "kernelspec": {
   "display_name": ".venv",
   "language": "python",
   "name": "python3"
  },
  "language_info": {
   "codemirror_mode": {
    "name": "ipython",
    "version": 3
   },
   "file_extension": ".py",
   "mimetype": "text/x-python",
   "name": "python",
   "nbconvert_exporter": "python",
   "pygments_lexer": "ipython3",
   "version": "3.12.10"
  }
 },
 "nbformat": 4,
 "nbformat_minor": 5
}
