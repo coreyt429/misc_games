{
 "cells": [
  {
   "cell_type": "code",
   "execution_count": 159,
   "id": "3ba40b0c",
   "metadata": {},
   "outputs": [],
   "source": [
    "from cube import Cube\n",
    "from solver import Solver\n",
    "from visualize import print_color_cube\n"
   ]
  },
  {
   "cell_type": "code",
   "execution_count": 160,
   "id": "c0ddde7f",
   "metadata": {},
   "outputs": [
    {
     "name": "stdout",
     "output_type": "stream",
     "text": [
      "Welcome to the Rubik's Cube Solver!\n"
     ]
    }
   ],
   "source": [
    "cube = Cube()\n",
    "solver = Solver(cube)\n",
    "print(\"Welcome to the Rubik's Cube Solver!\")"
   ]
  },
  {
   "cell_type": "code",
   "execution_count": 161,
   "id": "7ba49294",
   "metadata": {},
   "outputs": [
    {
     "name": "stdout",
     "output_type": "stream",
     "text": [
      "\n",
      "\u001b[0;30;40mK0\u001b[0m \u001b[0;30;40mK0\u001b[0m \u001b[0;30;40mK0\u001b[0m  \u001b[30;47m  \u001b[0m \u001b[30;47m  \u001b[0m \u001b[30;47m  \u001b[0m  \u001b[0;30;40mK0\u001b[0m \u001b[0;30;40mK0\u001b[0m \u001b[0;30;40mK0\u001b[0m  \u001b[0;30;40mK0\u001b[0m \u001b[0;30;40mK0\u001b[0m \u001b[0;30;40mK0\u001b[0m  \n",
      "\n",
      "\u001b[0;30;40mK0\u001b[0m \u001b[0;30;40mK0\u001b[0m \u001b[0;30;40mK0\u001b[0m  \u001b[30;47m  \u001b[0m \u001b[30;47m  \u001b[0m \u001b[30;47m  \u001b[0m  \u001b[0;30;40mK0\u001b[0m \u001b[0;30;40mK0\u001b[0m \u001b[0;30;40mK0\u001b[0m  \u001b[0;30;40mK0\u001b[0m \u001b[0;30;40mK0\u001b[0m \u001b[0;30;40mK0\u001b[0m  \n",
      "\n",
      "\u001b[0;30;40mK0\u001b[0m \u001b[0;30;40mK0\u001b[0m \u001b[0;30;40mK0\u001b[0m  \u001b[30;47m  \u001b[0m \u001b[30;47m  \u001b[0m \u001b[30;47m  \u001b[0m  \u001b[0;30;40mK0\u001b[0m \u001b[0;30;40mK0\u001b[0m \u001b[0;30;40mK0\u001b[0m  \u001b[0;30;40mK0\u001b[0m \u001b[0;30;40mK0\u001b[0m \u001b[0;30;40mK0\u001b[0m  \n",
      "\n",
      "\u001b[30;42m  \u001b[0m \u001b[30;42m  \u001b[0m \u001b[30;42m  \u001b[0m  \u001b[30;41m  \u001b[0m \u001b[30;41m  \u001b[0m \u001b[30;41m  \u001b[0m  \u001b[30;44m  \u001b[0m \u001b[30;44m  \u001b[0m \u001b[30;44m  \u001b[0m  \u001b[30;48;5;208m  \u001b[0m \u001b[30;48;5;208m  \u001b[0m \u001b[30;48;5;208m  \u001b[0m  \n",
      "\n",
      "\u001b[30;42m  \u001b[0m \u001b[30;42m  \u001b[0m \u001b[30;42m  \u001b[0m  \u001b[30;41m  \u001b[0m \u001b[30;41m  \u001b[0m \u001b[30;41m  \u001b[0m  \u001b[30;44m  \u001b[0m \u001b[30;44m  \u001b[0m \u001b[30;44m  \u001b[0m  \u001b[30;48;5;208m  \u001b[0m \u001b[30;48;5;208m  \u001b[0m \u001b[30;48;5;208m  \u001b[0m  \n",
      "\n",
      "\u001b[30;42m  \u001b[0m \u001b[30;42m  \u001b[0m \u001b[30;42m  \u001b[0m  \u001b[30;41m  \u001b[0m \u001b[30;41m  \u001b[0m \u001b[30;41m  \u001b[0m  \u001b[30;44m  \u001b[0m \u001b[30;44m  \u001b[0m \u001b[30;44m  \u001b[0m  \u001b[30;48;5;208m  \u001b[0m \u001b[30;48;5;208m  \u001b[0m \u001b[30;48;5;208m  \u001b[0m  \n",
      "\n",
      "\u001b[0;30;40mK0\u001b[0m \u001b[0;30;40mK0\u001b[0m \u001b[0;30;40mK0\u001b[0m  \u001b[30;43m  \u001b[0m \u001b[30;43m  \u001b[0m \u001b[30;43m  \u001b[0m  \u001b[0;30;40mK0\u001b[0m \u001b[0;30;40mK0\u001b[0m \u001b[0;30;40mK0\u001b[0m  \u001b[0;30;40mK0\u001b[0m \u001b[0;30;40mK0\u001b[0m \u001b[0;30;40mK0\u001b[0m  \n",
      "\n",
      "\u001b[0;30;40mK0\u001b[0m \u001b[0;30;40mK0\u001b[0m \u001b[0;30;40mK0\u001b[0m  \u001b[30;43m  \u001b[0m \u001b[30;43m  \u001b[0m \u001b[30;43m  \u001b[0m  \u001b[0;30;40mK0\u001b[0m \u001b[0;30;40mK0\u001b[0m \u001b[0;30;40mK0\u001b[0m  \u001b[0;30;40mK0\u001b[0m \u001b[0;30;40mK0\u001b[0m \u001b[0;30;40mK0\u001b[0m  \n",
      "\n",
      "\u001b[0;30;40mK0\u001b[0m \u001b[0;30;40mK0\u001b[0m \u001b[0;30;40mK0\u001b[0m  \u001b[30;43m  \u001b[0m \u001b[30;43m  \u001b[0m \u001b[30;43m  \u001b[0m  \u001b[0;30;40mK0\u001b[0m \u001b[0;30;40mK0\u001b[0m \u001b[0;30;40mK0\u001b[0m  \u001b[0;30;40mK0\u001b[0m \u001b[0;30;40mK0\u001b[0m \u001b[0;30;40mK0\u001b[0m  \n",
      "\n"
     ]
    }
   ],
   "source": [
    "print_color_cube(cube)"
   ]
  },
  {
   "cell_type": "code",
   "execution_count": 162,
   "id": "34a370cd",
   "metadata": {},
   "outputs": [
    {
     "name": "stdout",
     "output_type": "stream",
     "text": [
      "\n",
      "\u001b[0;30;40mK0\u001b[0m \u001b[0;30;40mK0\u001b[0m \u001b[0;30;40mK0\u001b[0m  \u001b[30;48;5;208m  \u001b[0m \u001b[30;47m  \u001b[0m \u001b[30;43m  \u001b[0m  \u001b[0;30;40mK0\u001b[0m \u001b[0;30;40mK0\u001b[0m \u001b[0;30;40mK0\u001b[0m  \u001b[0;30;40mK0\u001b[0m \u001b[0;30;40mK0\u001b[0m \u001b[0;30;40mK0\u001b[0m  \n",
      "\n",
      "\u001b[0;30;40mK0\u001b[0m \u001b[0;30;40mK0\u001b[0m \u001b[0;30;40mK0\u001b[0m  \u001b[30;42m  \u001b[0m \u001b[30;47m  \u001b[0m \u001b[30;43m  \u001b[0m  \u001b[0;30;40mK0\u001b[0m \u001b[0;30;40mK0\u001b[0m \u001b[0;30;40mK0\u001b[0m  \u001b[0;30;40mK0\u001b[0m \u001b[0;30;40mK0\u001b[0m \u001b[0;30;40mK0\u001b[0m  \n",
      "\n",
      "\u001b[0;30;40mK0\u001b[0m \u001b[0;30;40mK0\u001b[0m \u001b[0;30;40mK0\u001b[0m  \u001b[30;44m  \u001b[0m \u001b[30;43m  \u001b[0m \u001b[30;44m  \u001b[0m  \u001b[0;30;40mK0\u001b[0m \u001b[0;30;40mK0\u001b[0m \u001b[0;30;40mK0\u001b[0m  \u001b[0;30;40mK0\u001b[0m \u001b[0;30;40mK0\u001b[0m \u001b[0;30;40mK0\u001b[0m  \n",
      "\n",
      "\u001b[30;47m  \u001b[0m \u001b[30;41m  \u001b[0m \u001b[30;47m  \u001b[0m  \u001b[30;41m  \u001b[0m \u001b[30;42m  \u001b[0m \u001b[30;48;5;208m  \u001b[0m  \u001b[30;47m  \u001b[0m \u001b[30;48;5;208m  \u001b[0m \u001b[30;42m  \u001b[0m  \u001b[30;48;5;208m  \u001b[0m \u001b[30;42m  \u001b[0m \u001b[30;42m  \u001b[0m  \n",
      "\n",
      "\u001b[30;48;5;208m  \u001b[0m \u001b[30;42m  \u001b[0m \u001b[30;44m  \u001b[0m  \u001b[30;41m  \u001b[0m \u001b[30;41m  \u001b[0m \u001b[30;48;5;208m  \u001b[0m  \u001b[30;47m  \u001b[0m \u001b[30;44m  \u001b[0m \u001b[30;41m  \u001b[0m  \u001b[30;43m  \u001b[0m \u001b[30;48;5;208m  \u001b[0m \u001b[30;44m  \u001b[0m  \n",
      "\n",
      "\u001b[30;43m  \u001b[0m \u001b[30;41m  \u001b[0m \u001b[30;48;5;208m  \u001b[0m  \u001b[30;43m  \u001b[0m \u001b[30;44m  \u001b[0m \u001b[30;42m  \u001b[0m  \u001b[30;41m  \u001b[0m \u001b[30;44m  \u001b[0m \u001b[30;47m  \u001b[0m  \u001b[30;41m  \u001b[0m \u001b[30;48;5;208m  \u001b[0m \u001b[30;44m  \u001b[0m  \n",
      "\n",
      "\u001b[0;30;40mK0\u001b[0m \u001b[0;30;40mK0\u001b[0m \u001b[0;30;40mK0\u001b[0m  \u001b[30;44m  \u001b[0m \u001b[30;47m  \u001b[0m \u001b[30;43m  \u001b[0m  \u001b[0;30;40mK0\u001b[0m \u001b[0;30;40mK0\u001b[0m \u001b[0;30;40mK0\u001b[0m  \u001b[0;30;40mK0\u001b[0m \u001b[0;30;40mK0\u001b[0m \u001b[0;30;40mK0\u001b[0m  \n",
      "\n",
      "\u001b[0;30;40mK0\u001b[0m \u001b[0;30;40mK0\u001b[0m \u001b[0;30;40mK0\u001b[0m  \u001b[30;47m  \u001b[0m \u001b[30;43m  \u001b[0m \u001b[30;43m  \u001b[0m  \u001b[0;30;40mK0\u001b[0m \u001b[0;30;40mK0\u001b[0m \u001b[0;30;40mK0\u001b[0m  \u001b[0;30;40mK0\u001b[0m \u001b[0;30;40mK0\u001b[0m \u001b[0;30;40mK0\u001b[0m  \n",
      "\n",
      "\u001b[0;30;40mK0\u001b[0m \u001b[0;30;40mK0\u001b[0m \u001b[0;30;40mK0\u001b[0m  \u001b[30;41m  \u001b[0m \u001b[30;42m  \u001b[0m \u001b[30;42m  \u001b[0m  \u001b[0;30;40mK0\u001b[0m \u001b[0;30;40mK0\u001b[0m \u001b[0;30;40mK0\u001b[0m  \u001b[0;30;40mK0\u001b[0m \u001b[0;30;40mK0\u001b[0m \u001b[0;30;40mK0\u001b[0m  \n",
      "\n"
     ]
    }
   ],
   "source": [
    "cube.scramble()\n",
    "print_color_cube(cube)"
   ]
  },
  {
   "cell_type": "code",
   "execution_count": 163,
   "id": "f00cb6dd",
   "metadata": {},
   "outputs": [
    {
     "name": "stdout",
     "output_type": "stream",
     "text": [
      "\n",
      "\u001b[0;30;40mK0\u001b[0m \u001b[0;30;40mK0\u001b[0m \u001b[0;30;40mK0\u001b[0m  \u001b[30;43m  \u001b[0m \u001b[30;47m  \u001b[0m \u001b[30;42m  \u001b[0m  \u001b[0;30;40mK0\u001b[0m \u001b[0;30;40mK0\u001b[0m \u001b[0;30;40mK0\u001b[0m  \u001b[0;30;40mK0\u001b[0m \u001b[0;30;40mK0\u001b[0m \u001b[0;30;40mK0\u001b[0m  \n",
      "\n",
      "\u001b[0;30;40mK0\u001b[0m \u001b[0;30;40mK0\u001b[0m \u001b[0;30;40mK0\u001b[0m  \u001b[30;47m  \u001b[0m \u001b[30;47m  \u001b[0m \u001b[30;47m  \u001b[0m  \u001b[0;30;40mK0\u001b[0m \u001b[0;30;40mK0\u001b[0m \u001b[0;30;40mK0\u001b[0m  \u001b[0;30;40mK0\u001b[0m \u001b[0;30;40mK0\u001b[0m \u001b[0;30;40mK0\u001b[0m  \n",
      "\n",
      "\u001b[0;30;40mK0\u001b[0m \u001b[0;30;40mK0\u001b[0m \u001b[0;30;40mK0\u001b[0m  \u001b[30;44m  \u001b[0m \u001b[30;47m  \u001b[0m \u001b[30;43m  \u001b[0m  \u001b[0;30;40mK0\u001b[0m \u001b[0;30;40mK0\u001b[0m \u001b[0;30;40mK0\u001b[0m  \u001b[0;30;40mK0\u001b[0m \u001b[0;30;40mK0\u001b[0m \u001b[0;30;40mK0\u001b[0m  \n",
      "\n",
      "\u001b[30;41m  \u001b[0m \u001b[30;42m  \u001b[0m \u001b[30;43m  \u001b[0m  \u001b[30;48;5;208m  \u001b[0m \u001b[30;41m  \u001b[0m \u001b[30;41m  \u001b[0m  \u001b[30;42m  \u001b[0m \u001b[30;44m  \u001b[0m \u001b[30;41m  \u001b[0m  \u001b[30;47m  \u001b[0m \u001b[30;48;5;208m  \u001b[0m \u001b[30;44m  \u001b[0m  \n",
      "\n",
      "\u001b[30;42m  \u001b[0m \u001b[30;42m  \u001b[0m \u001b[30;44m  \u001b[0m  \u001b[30;41m  \u001b[0m \u001b[30;41m  \u001b[0m \u001b[30;43m  \u001b[0m  \u001b[30;41m  \u001b[0m \u001b[30;44m  \u001b[0m \u001b[30;48;5;208m  \u001b[0m  \u001b[30;42m  \u001b[0m \u001b[30;48;5;208m  \u001b[0m \u001b[30;41m  \u001b[0m  \n",
      "\n",
      "\u001b[30;43m  \u001b[0m \u001b[30;43m  \u001b[0m \u001b[30;47m  \u001b[0m  \u001b[30;42m  \u001b[0m \u001b[30;43m  \u001b[0m \u001b[30;44m  \u001b[0m  \u001b[30;47m  \u001b[0m \u001b[30;43m  \u001b[0m \u001b[30;47m  \u001b[0m  \u001b[30;44m  \u001b[0m \u001b[30;44m  \u001b[0m \u001b[30;42m  \u001b[0m  \n",
      "\n",
      "\u001b[0;30;40mK0\u001b[0m \u001b[0;30;40mK0\u001b[0m \u001b[0;30;40mK0\u001b[0m  \u001b[30;48;5;208m  \u001b[0m \u001b[30;42m  \u001b[0m \u001b[30;48;5;208m  \u001b[0m  \u001b[0;30;40mK0\u001b[0m \u001b[0;30;40mK0\u001b[0m \u001b[0;30;40mK0\u001b[0m  \u001b[0;30;40mK0\u001b[0m \u001b[0;30;40mK0\u001b[0m \u001b[0;30;40mK0\u001b[0m  \n",
      "\n",
      "\u001b[0;30;40mK0\u001b[0m \u001b[0;30;40mK0\u001b[0m \u001b[0;30;40mK0\u001b[0m  \u001b[30;48;5;208m  \u001b[0m \u001b[30;43m  \u001b[0m \u001b[30;44m  \u001b[0m  \u001b[0;30;40mK0\u001b[0m \u001b[0;30;40mK0\u001b[0m \u001b[0;30;40mK0\u001b[0m  \u001b[0;30;40mK0\u001b[0m \u001b[0;30;40mK0\u001b[0m \u001b[0;30;40mK0\u001b[0m  \n",
      "\n",
      "\u001b[0;30;40mK0\u001b[0m \u001b[0;30;40mK0\u001b[0m \u001b[0;30;40mK0\u001b[0m  \u001b[30;48;5;208m  \u001b[0m \u001b[30;48;5;208m  \u001b[0m \u001b[30;41m  \u001b[0m  \u001b[0;30;40mK0\u001b[0m \u001b[0;30;40mK0\u001b[0m \u001b[0;30;40mK0\u001b[0m  \u001b[0;30;40mK0\u001b[0m \u001b[0;30;40mK0\u001b[0m \u001b[0;30;40mK0\u001b[0m  \n",
      "\n"
     ]
    }
   ],
   "source": [
    "solver.cross()\n",
    "print_color_cube(cube)"
   ]
  },
  {
   "cell_type": "code",
   "execution_count": 164,
   "id": "0ecfd8db",
   "metadata": {},
   "outputs": [],
   "source": [
    "solver.f2l()"
   ]
  },
  {
   "cell_type": "code",
   "execution_count": 165,
   "id": "536f88ab",
   "metadata": {},
   "outputs": [],
   "source": [
    "cube.reset()\n",
    "cubies= cube.get_cubies()\n",
    "\n",
    "valid_cubies = set(cubie.color for cubie in cubies)\n",
    "\n",
    "\n"
   ]
  },
  {
   "cell_type": "code",
   "execution_count": 166,
   "id": "f4f45918",
   "metadata": {},
   "outputs": [
    {
     "name": "stdout",
     "output_type": "stream",
     "text": [
      "\n",
      "\u001b[0;30;40mK0\u001b[0m \u001b[0;30;40mK0\u001b[0m \u001b[0;30;40mK0\u001b[0m  \u001b[30;48;5;208m  \u001b[0m \u001b[30;48;5;208m  \u001b[0m \u001b[30;48;5;208m  \u001b[0m  \u001b[0;30;40mK0\u001b[0m \u001b[0;30;40mK0\u001b[0m \u001b[0;30;40mK0\u001b[0m  \u001b[0;30;40mK0\u001b[0m \u001b[0;30;40mK0\u001b[0m \u001b[0;30;40mK0\u001b[0m  \n",
      "\n",
      "\u001b[0;30;40mK0\u001b[0m \u001b[0;30;40mK0\u001b[0m \u001b[0;30;40mK0\u001b[0m  \u001b[30;44m  \u001b[0m \u001b[30;47m  \u001b[0m \u001b[30;43m  \u001b[0m  \u001b[0;30;40mK0\u001b[0m \u001b[0;30;40mK0\u001b[0m \u001b[0;30;40mK0\u001b[0m  \u001b[0;30;40mK0\u001b[0m \u001b[0;30;40mK0\u001b[0m \u001b[0;30;40mK0\u001b[0m  \n",
      "\n",
      "\u001b[0;30;40mK0\u001b[0m \u001b[0;30;40mK0\u001b[0m \u001b[0;30;40mK0\u001b[0m  \u001b[30;47m  \u001b[0m \u001b[30;41m  \u001b[0m \u001b[30;44m  \u001b[0m  \u001b[0;30;40mK0\u001b[0m \u001b[0;30;40mK0\u001b[0m \u001b[0;30;40mK0\u001b[0m  \u001b[0;30;40mK0\u001b[0m \u001b[0;30;40mK0\u001b[0m \u001b[0;30;40mK0\u001b[0m  \n",
      "\n",
      "\u001b[30;47m  \u001b[0m \u001b[30;47m  \u001b[0m \u001b[30;41m  \u001b[0m  \u001b[30;44m  \u001b[0m \u001b[30;44m  \u001b[0m \u001b[30;41m  \u001b[0m  \u001b[30;43m  \u001b[0m \u001b[30;44m  \u001b[0m \u001b[30;43m  \u001b[0m  \u001b[30;42m  \u001b[0m \u001b[30;47m  \u001b[0m \u001b[30;42m  \u001b[0m  \n",
      "\n",
      "\u001b[30;47m  \u001b[0m \u001b[30;42m  \u001b[0m \u001b[30;43m  \u001b[0m  \u001b[30;48;5;208m  \u001b[0m \u001b[30;41m  \u001b[0m \u001b[30;41m  \u001b[0m  \u001b[30;43m  \u001b[0m \u001b[30;44m  \u001b[0m \u001b[30;47m  \u001b[0m  \u001b[30;42m  \u001b[0m \u001b[30;48;5;208m  \u001b[0m \u001b[30;41m  \u001b[0m  \n",
      "\n",
      "\u001b[30;47m  \u001b[0m \u001b[30;48;5;208m  \u001b[0m \u001b[30;42m  \u001b[0m  \u001b[30;41m  \u001b[0m \u001b[30;42m  \u001b[0m \u001b[30;44m  \u001b[0m  \u001b[30;48;5;208m  \u001b[0m \u001b[30;41m  \u001b[0m \u001b[30;48;5;208m  \u001b[0m  \u001b[30;44m  \u001b[0m \u001b[30;42m  \u001b[0m \u001b[30;42m  \u001b[0m  \n",
      "\n",
      "\u001b[0;30;40mK0\u001b[0m \u001b[0;30;40mK0\u001b[0m \u001b[0;30;40mK0\u001b[0m  \u001b[30;43m  \u001b[0m \u001b[30;48;5;208m  \u001b[0m \u001b[30;43m  \u001b[0m  \u001b[0;30;40mK0\u001b[0m \u001b[0;30;40mK0\u001b[0m \u001b[0;30;40mK0\u001b[0m  \u001b[0;30;40mK0\u001b[0m \u001b[0;30;40mK0\u001b[0m \u001b[0;30;40mK0\u001b[0m  \n",
      "\n",
      "\u001b[0;30;40mK0\u001b[0m \u001b[0;30;40mK0\u001b[0m \u001b[0;30;40mK0\u001b[0m  \u001b[30;44m  \u001b[0m \u001b[30;43m  \u001b[0m \u001b[30;42m  \u001b[0m  \u001b[0;30;40mK0\u001b[0m \u001b[0;30;40mK0\u001b[0m \u001b[0;30;40mK0\u001b[0m  \u001b[0;30;40mK0\u001b[0m \u001b[0;30;40mK0\u001b[0m \u001b[0;30;40mK0\u001b[0m  \n",
      "\n",
      "\u001b[0;30;40mK0\u001b[0m \u001b[0;30;40mK0\u001b[0m \u001b[0;30;40mK0\u001b[0m  \u001b[30;41m  \u001b[0m \u001b[30;43m  \u001b[0m \u001b[30;47m  \u001b[0m  \u001b[0;30;40mK0\u001b[0m \u001b[0;30;40mK0\u001b[0m \u001b[0;30;40mK0\u001b[0m  \u001b[0;30;40mK0\u001b[0m \u001b[0;30;40mK0\u001b[0m \u001b[0;30;40mK0\u001b[0m  \n",
      "\n",
      "\n",
      "\u001b[0;30;40mK0\u001b[0m \u001b[0;30;40mK0\u001b[0m \u001b[0;30;40mK0\u001b[0m  \u001b[30;48;5;208m  \u001b[0m \u001b[30;48;5;208m  \u001b[0m \u001b[30;48;5;208m  \u001b[0m  \u001b[0;30;40mK0\u001b[0m \u001b[0;30;40mK0\u001b[0m \u001b[0;30;40mK0\u001b[0m  \u001b[0;30;40mK0\u001b[0m \u001b[0;30;40mK0\u001b[0m \u001b[0;30;40mK0\u001b[0m  \n",
      "\n",
      "\u001b[0;30;40mK0\u001b[0m \u001b[0;30;40mK0\u001b[0m \u001b[0;30;40mK0\u001b[0m  \u001b[30;44m  \u001b[0m \u001b[30;47m  \u001b[0m \u001b[30;43m  \u001b[0m  \u001b[0;30;40mK0\u001b[0m \u001b[0;30;40mK0\u001b[0m \u001b[0;30;40mK0\u001b[0m  \u001b[0;30;40mK0\u001b[0m \u001b[0;30;40mK0\u001b[0m \u001b[0;30;40mK0\u001b[0m  \n",
      "\n",
      "\u001b[0;30;40mK0\u001b[0m \u001b[0;30;40mK0\u001b[0m \u001b[0;30;40mK0\u001b[0m  \u001b[30;47m  \u001b[0m \u001b[30;41m  \u001b[0m \u001b[30;44m  \u001b[0m  \u001b[0;30;40mK0\u001b[0m \u001b[0;30;40mK0\u001b[0m \u001b[0;30;40mK0\u001b[0m  \u001b[0;30;40mK0\u001b[0m \u001b[0;30;40mK0\u001b[0m \u001b[0;30;40mK0\u001b[0m  \n",
      "\n",
      "\u001b[30;47m  \u001b[0m \u001b[30;47m  \u001b[0m \u001b[30;41m  \u001b[0m  \u001b[30;44m  \u001b[0m \u001b[30;44m  \u001b[0m \u001b[30;41m  \u001b[0m  \u001b[30;43m  \u001b[0m \u001b[30;44m  \u001b[0m \u001b[30;43m  \u001b[0m  \u001b[30;42m  \u001b[0m \u001b[30;47m  \u001b[0m \u001b[30;42m  \u001b[0m  \n",
      "\n",
      "\u001b[30;47m  \u001b[0m \u001b[30;42m  \u001b[0m \u001b[30;43m  \u001b[0m  \u001b[30;48;5;208m  \u001b[0m \u001b[30;41m  \u001b[0m \u001b[30;41m  \u001b[0m  \u001b[30;43m  \u001b[0m \u001b[30;44m  \u001b[0m \u001b[30;47m  \u001b[0m  \u001b[30;42m  \u001b[0m \u001b[30;48;5;208m  \u001b[0m \u001b[30;41m  \u001b[0m  \n",
      "\n",
      "\u001b[30;47m  \u001b[0m \u001b[30;48;5;208m  \u001b[0m \u001b[30;42m  \u001b[0m  \u001b[30;41m  \u001b[0m \u001b[30;42m  \u001b[0m \u001b[30;44m  \u001b[0m  \u001b[30;48;5;208m  \u001b[0m \u001b[30;41m  \u001b[0m \u001b[30;48;5;208m  \u001b[0m  \u001b[30;44m  \u001b[0m \u001b[30;42m  \u001b[0m \u001b[30;42m  \u001b[0m  \n",
      "\n",
      "\u001b[0;30;40mK0\u001b[0m \u001b[0;30;40mK0\u001b[0m \u001b[0;30;40mK0\u001b[0m  \u001b[30;43m  \u001b[0m \u001b[30;48;5;208m  \u001b[0m \u001b[30;43m  \u001b[0m  \u001b[0;30;40mK0\u001b[0m \u001b[0;30;40mK0\u001b[0m \u001b[0;30;40mK0\u001b[0m  \u001b[0;30;40mK0\u001b[0m \u001b[0;30;40mK0\u001b[0m \u001b[0;30;40mK0\u001b[0m  \n",
      "\n",
      "\u001b[0;30;40mK0\u001b[0m \u001b[0;30;40mK0\u001b[0m \u001b[0;30;40mK0\u001b[0m  \u001b[30;44m  \u001b[0m \u001b[30;43m  \u001b[0m \u001b[30;42m  \u001b[0m  \u001b[0;30;40mK0\u001b[0m \u001b[0;30;40mK0\u001b[0m \u001b[0;30;40mK0\u001b[0m  \u001b[0;30;40mK0\u001b[0m \u001b[0;30;40mK0\u001b[0m \u001b[0;30;40mK0\u001b[0m  \n",
      "\n",
      "\u001b[0;30;40mK0\u001b[0m \u001b[0;30;40mK0\u001b[0m \u001b[0;30;40mK0\u001b[0m  \u001b[30;41m  \u001b[0m \u001b[30;43m  \u001b[0m \u001b[30;47m  \u001b[0m  \u001b[0;30;40mK0\u001b[0m \u001b[0;30;40mK0\u001b[0m \u001b[0;30;40mK0\u001b[0m  \u001b[0;30;40mK0\u001b[0m \u001b[0;30;40mK0\u001b[0m \u001b[0;30;40mK0\u001b[0m  \n",
      "\n"
     ]
    }
   ],
   "source": [
    "cube.load(\"OOOBWYWRBYOYBYGRYWWWRWGYWOGYBYYBWOROBBRORRRGBGWGGORBGG\")\n",
    "print_color_cube(cube)\n",
    "for cubie in cube.get_cubies():\n",
    "    while cubie.color not in valid_cubies:\n",
    "        cubie.color = cubie.color[1:] + cubie.color[:1]\n",
    "        cubie.orientation = (cubie.orientation - 1) % len(cubie.color)\n",
    "print_color_cube(cube)"
   ]
  },
  {
   "cell_type": "code",
   "execution_count": 167,
   "id": "89157ca4",
   "metadata": {},
   "outputs": [
    {
     "name": "stdout",
     "output_type": "stream",
     "text": [
      "\n",
      "\u001b[0;30;40mK0\u001b[0m \u001b[0;30;40mK0\u001b[0m \u001b[0;30;40mK0\u001b[0m  \u001b[30;47m  \u001b[0m \u001b[30;47m  \u001b[0m \u001b[30;47m  \u001b[0m  \u001b[0;30;40mK0\u001b[0m \u001b[0;30;40mK0\u001b[0m \u001b[0;30;40mK0\u001b[0m  \u001b[0;30;40mK0\u001b[0m \u001b[0;30;40mK0\u001b[0m \u001b[0;30;40mK0\u001b[0m  \n",
      "\n",
      "\u001b[0;30;40mK0\u001b[0m \u001b[0;30;40mK0\u001b[0m \u001b[0;30;40mK0\u001b[0m  \u001b[30;47m  \u001b[0m \u001b[30;47m  \u001b[0m \u001b[30;47m  \u001b[0m  \u001b[0;30;40mK0\u001b[0m \u001b[0;30;40mK0\u001b[0m \u001b[0;30;40mK0\u001b[0m  \u001b[0;30;40mK0\u001b[0m \u001b[0;30;40mK0\u001b[0m \u001b[0;30;40mK0\u001b[0m  \n",
      "\n",
      "\u001b[0;30;40mK0\u001b[0m \u001b[0;30;40mK0\u001b[0m \u001b[0;30;40mK0\u001b[0m  \u001b[30;47m  \u001b[0m \u001b[30;47m  \u001b[0m \u001b[30;47m  \u001b[0m  \u001b[0;30;40mK0\u001b[0m \u001b[0;30;40mK0\u001b[0m \u001b[0;30;40mK0\u001b[0m  \u001b[0;30;40mK0\u001b[0m \u001b[0;30;40mK0\u001b[0m \u001b[0;30;40mK0\u001b[0m  \n",
      "\n",
      "\u001b[30;42m  \u001b[0m \u001b[30;42m  \u001b[0m \u001b[30;42m  \u001b[0m  \u001b[30;41m  \u001b[0m \u001b[30;41m  \u001b[0m \u001b[30;41m  \u001b[0m  \u001b[30;44m  \u001b[0m \u001b[30;44m  \u001b[0m \u001b[30;44m  \u001b[0m  \u001b[30;48;5;208m  \u001b[0m \u001b[30;48;5;208m  \u001b[0m \u001b[30;48;5;208m  \u001b[0m  \n",
      "\n",
      "\u001b[30;42m  \u001b[0m \u001b[30;42m  \u001b[0m \u001b[30;42m  \u001b[0m  \u001b[30;41m  \u001b[0m \u001b[30;41m  \u001b[0m \u001b[30;41m  \u001b[0m  \u001b[30;44m  \u001b[0m \u001b[30;44m  \u001b[0m \u001b[30;44m  \u001b[0m  \u001b[30;48;5;208m  \u001b[0m \u001b[30;48;5;208m  \u001b[0m \u001b[30;48;5;208m  \u001b[0m  \n",
      "\n",
      "\u001b[30;44m  \u001b[0m \u001b[30;43m  \u001b[0m \u001b[30;43m  \u001b[0m  \u001b[30;48;5;208m  \u001b[0m \u001b[30;43m  \u001b[0m \u001b[30;42m  \u001b[0m  \u001b[30;41m  \u001b[0m \u001b[30;41m  \u001b[0m \u001b[30;48;5;208m  \u001b[0m  \u001b[30;43m  \u001b[0m \u001b[30;44m  \u001b[0m \u001b[30;41m  \u001b[0m  \n",
      "\n",
      "\u001b[0;30;40mK0\u001b[0m \u001b[0;30;40mK0\u001b[0m \u001b[0;30;40mK0\u001b[0m  \u001b[30;42m  \u001b[0m \u001b[30;48;5;208m  \u001b[0m \u001b[30;43m  \u001b[0m  \u001b[0;30;40mK0\u001b[0m \u001b[0;30;40mK0\u001b[0m \u001b[0;30;40mK0\u001b[0m  \u001b[0;30;40mK0\u001b[0m \u001b[0;30;40mK0\u001b[0m \u001b[0;30;40mK0\u001b[0m  \n",
      "\n",
      "\u001b[0;30;40mK0\u001b[0m \u001b[0;30;40mK0\u001b[0m \u001b[0;30;40mK0\u001b[0m  \u001b[30;42m  \u001b[0m \u001b[30;43m  \u001b[0m \u001b[30;43m  \u001b[0m  \u001b[0;30;40mK0\u001b[0m \u001b[0;30;40mK0\u001b[0m \u001b[0;30;40mK0\u001b[0m  \u001b[0;30;40mK0\u001b[0m \u001b[0;30;40mK0\u001b[0m \u001b[0;30;40mK0\u001b[0m  \n",
      "\n",
      "\u001b[0;30;40mK0\u001b[0m \u001b[0;30;40mK0\u001b[0m \u001b[0;30;40mK0\u001b[0m  \u001b[30;43m  \u001b[0m \u001b[30;43m  \u001b[0m \u001b[30;44m  \u001b[0m  \u001b[0;30;40mK0\u001b[0m \u001b[0;30;40mK0\u001b[0m \u001b[0;30;40mK0\u001b[0m  \u001b[0;30;40mK0\u001b[0m \u001b[0;30;40mK0\u001b[0m \u001b[0;30;40mK0\u001b[0m  \n",
      "\n"
     ]
    }
   ],
   "source": [
    "solver = Solver(cube)\n",
    "solver.cross()\n",
    "solver.f2l()\n",
    "print_color_cube(cube)\n"
   ]
  },
  {
   "cell_type": "code",
   "execution_count": 168,
   "id": "8d5579a8",
   "metadata": {},
   "outputs": [
    {
     "name": "stdout",
     "output_type": "stream",
     "text": [
      "Cube state: YOWWWYBBWRRYGYRBYYBRROGWOWWGGGYBOGBGYOOBRRBGORWOGOYRBW\n",
      "Scrambled cube, UBR cubie: ('W', 'R', 'G') UBR 0\n",
      "Cube state: YOWWWYBBWRRYGYRBYYBRROGWOWWGGGYBOGBGYOOBRRBGORWOGOYRBW\n",
      "Scrambled cube, UBR cubie: ('W', 'R', 'G') UBR 0\n"
     ]
    }
   ],
   "source": [
    "cube = Cube()\n",
    "cube.scramble()\n",
    "cubie = cube.get_cubie('UBR')\n",
    "state = cube.as_string()\n",
    "print(f\"Cube state: {state}\")\n",
    "print(f\"Scrambled cube, UBR cubie: {cubie}\")\n",
    "cube.reset()\n",
    "cube.load(state)\n",
    "cubie = cube.get_cubie('UBR')\n",
    "print(f\"Cube state: {state}\")\n",
    "print(f\"Scrambled cube, UBR cubie: {cubie}\")\n"
   ]
  },
  {
   "cell_type": "code",
   "execution_count": 169,
   "id": "8a5318c0",
   "metadata": {},
   "outputs": [
    {
     "name": "stdout",
     "output_type": "stream",
     "text": [
      "\n",
      "\u001b[0;30;40mK0\u001b[0m \u001b[0;30;40mK0\u001b[0m \u001b[0;30;40mK0\u001b[0m  \u001b[30;48;5;208m  \u001b[0m \u001b[30;47m  \u001b[0m \u001b[30;42m  \u001b[0m  \u001b[0;30;40mK0\u001b[0m \u001b[0;30;40mK0\u001b[0m \u001b[0;30;40mK0\u001b[0m  \u001b[0;30;40mK0\u001b[0m \u001b[0;30;40mK0\u001b[0m \u001b[0;30;40mK0\u001b[0m  \n",
      "\n",
      "\u001b[0;30;40mK0\u001b[0m \u001b[0;30;40mK0\u001b[0m \u001b[0;30;40mK0\u001b[0m  \u001b[30;47m  \u001b[0m \u001b[30;47m  \u001b[0m \u001b[30;47m  \u001b[0m  \u001b[0;30;40mK0\u001b[0m \u001b[0;30;40mK0\u001b[0m \u001b[0;30;40mK0\u001b[0m  \u001b[0;30;40mK0\u001b[0m \u001b[0;30;40mK0\u001b[0m \u001b[0;30;40mK0\u001b[0m  \n",
      "\n",
      "\u001b[0;30;40mK0\u001b[0m \u001b[0;30;40mK0\u001b[0m \u001b[0;30;40mK0\u001b[0m  \u001b[30;47m  \u001b[0m \u001b[30;47m  \u001b[0m \u001b[30;41m  \u001b[0m  \u001b[0;30;40mK0\u001b[0m \u001b[0;30;40mK0\u001b[0m \u001b[0;30;40mK0\u001b[0m  \u001b[0;30;40mK0\u001b[0m \u001b[0;30;40mK0\u001b[0m \u001b[0;30;40mK0\u001b[0m  \n",
      "\n",
      "\u001b[30;44m  \u001b[0m \u001b[30;42m  \u001b[0m \u001b[30;42m  \u001b[0m  \u001b[30;41m  \u001b[0m \u001b[30;41m  \u001b[0m \u001b[30;42m  \u001b[0m  \u001b[30;43m  \u001b[0m \u001b[30;44m  \u001b[0m \u001b[30;48;5;208m  \u001b[0m  \u001b[30;43m  \u001b[0m \u001b[30;48;5;208m  \u001b[0m \u001b[30;47m  \u001b[0m  \n",
      "\n",
      "\u001b[30;44m  \u001b[0m \u001b[30;42m  \u001b[0m \u001b[30;43m  \u001b[0m  \u001b[30;48;5;208m  \u001b[0m \u001b[30;41m  \u001b[0m \u001b[30;44m  \u001b[0m  \u001b[30;41m  \u001b[0m \u001b[30;44m  \u001b[0m \u001b[30;42m  \u001b[0m  \u001b[30;43m  \u001b[0m \u001b[30;48;5;208m  \u001b[0m \u001b[30;43m  \u001b[0m  \n",
      "\n",
      "\u001b[30;47m  \u001b[0m \u001b[30;42m  \u001b[0m \u001b[30;47m  \u001b[0m  \u001b[30;44m  \u001b[0m \u001b[30;43m  \u001b[0m \u001b[30;43m  \u001b[0m  \u001b[30;44m  \u001b[0m \u001b[30;48;5;208m  \u001b[0m \u001b[30;43m  \u001b[0m  \u001b[30;41m  \u001b[0m \u001b[30;42m  \u001b[0m \u001b[30;48;5;208m  \u001b[0m  \n",
      "\n",
      "\u001b[0;30;40mK0\u001b[0m \u001b[0;30;40mK0\u001b[0m \u001b[0;30;40mK0\u001b[0m  \u001b[30;41m  \u001b[0m \u001b[30;41m  \u001b[0m \u001b[30;48;5;208m  \u001b[0m  \u001b[0;30;40mK0\u001b[0m \u001b[0;30;40mK0\u001b[0m \u001b[0;30;40mK0\u001b[0m  \u001b[0;30;40mK0\u001b[0m \u001b[0;30;40mK0\u001b[0m \u001b[0;30;40mK0\u001b[0m  \n",
      "\n",
      "\u001b[0;30;40mK0\u001b[0m \u001b[0;30;40mK0\u001b[0m \u001b[0;30;40mK0\u001b[0m  \u001b[30;48;5;208m  \u001b[0m \u001b[30;43m  \u001b[0m \u001b[30;44m  \u001b[0m  \u001b[0;30;40mK0\u001b[0m \u001b[0;30;40mK0\u001b[0m \u001b[0;30;40mK0\u001b[0m  \u001b[0;30;40mK0\u001b[0m \u001b[0;30;40mK0\u001b[0m \u001b[0;30;40mK0\u001b[0m  \n",
      "\n",
      "\u001b[0;30;40mK0\u001b[0m \u001b[0;30;40mK0\u001b[0m \u001b[0;30;40mK0\u001b[0m  \u001b[30;42m  \u001b[0m \u001b[30;41m  \u001b[0m \u001b[30;44m  \u001b[0m  \u001b[0;30;40mK0\u001b[0m \u001b[0;30;40mK0\u001b[0m \u001b[0;30;40mK0\u001b[0m  \u001b[0;30;40mK0\u001b[0m \u001b[0;30;40mK0\u001b[0m \u001b[0;30;40mK0\u001b[0m  \n",
      "\n",
      "\n",
      "\u001b[0;30;40mK0\u001b[0m \u001b[0;30;40mK0\u001b[0m \u001b[0;30;40mK0\u001b[0m  \u001b[30;47m  \u001b[0m \u001b[30;47m  \u001b[0m \u001b[30;47m  \u001b[0m  \u001b[0;30;40mK0\u001b[0m \u001b[0;30;40mK0\u001b[0m \u001b[0;30;40mK0\u001b[0m  \u001b[0;30;40mK0\u001b[0m \u001b[0;30;40mK0\u001b[0m \u001b[0;30;40mK0\u001b[0m  \n",
      "\n",
      "\u001b[0;30;40mK0\u001b[0m \u001b[0;30;40mK0\u001b[0m \u001b[0;30;40mK0\u001b[0m  \u001b[30;47m  \u001b[0m \u001b[30;47m  \u001b[0m \u001b[30;47m  \u001b[0m  \u001b[0;30;40mK0\u001b[0m \u001b[0;30;40mK0\u001b[0m \u001b[0;30;40mK0\u001b[0m  \u001b[0;30;40mK0\u001b[0m \u001b[0;30;40mK0\u001b[0m \u001b[0;30;40mK0\u001b[0m  \n",
      "\n",
      "\u001b[0;30;40mK0\u001b[0m \u001b[0;30;40mK0\u001b[0m \u001b[0;30;40mK0\u001b[0m  \u001b[30;47m  \u001b[0m \u001b[30;47m  \u001b[0m \u001b[30;47m  \u001b[0m  \u001b[0;30;40mK0\u001b[0m \u001b[0;30;40mK0\u001b[0m \u001b[0;30;40mK0\u001b[0m  \u001b[0;30;40mK0\u001b[0m \u001b[0;30;40mK0\u001b[0m \u001b[0;30;40mK0\u001b[0m  \n",
      "\n",
      "\u001b[30;42m  \u001b[0m \u001b[30;42m  \u001b[0m \u001b[30;42m  \u001b[0m  \u001b[30;41m  \u001b[0m \u001b[30;41m  \u001b[0m \u001b[30;41m  \u001b[0m  \u001b[30;44m  \u001b[0m \u001b[30;44m  \u001b[0m \u001b[30;44m  \u001b[0m  \u001b[30;48;5;208m  \u001b[0m \u001b[30;48;5;208m  \u001b[0m \u001b[30;48;5;208m  \u001b[0m  \n",
      "\n",
      "\u001b[30;42m  \u001b[0m \u001b[30;42m  \u001b[0m \u001b[30;42m  \u001b[0m  \u001b[30;41m  \u001b[0m \u001b[30;41m  \u001b[0m \u001b[30;41m  \u001b[0m  \u001b[30;44m  \u001b[0m \u001b[30;44m  \u001b[0m \u001b[30;44m  \u001b[0m  \u001b[30;48;5;208m  \u001b[0m \u001b[30;48;5;208m  \u001b[0m \u001b[30;48;5;208m  \u001b[0m  \n",
      "\n",
      "\u001b[30;41m  \u001b[0m \u001b[30;43m  \u001b[0m \u001b[30;42m  \u001b[0m  \u001b[30;43m  \u001b[0m \u001b[30;43m  \u001b[0m \u001b[30;43m  \u001b[0m  \u001b[30;42m  \u001b[0m \u001b[30;41m  \u001b[0m \u001b[30;48;5;208m  \u001b[0m  \u001b[30;43m  \u001b[0m \u001b[30;48;5;208m  \u001b[0m \u001b[30;43m  \u001b[0m  \n",
      "\n",
      "\u001b[0;30;40mK0\u001b[0m \u001b[0;30;40mK0\u001b[0m \u001b[0;30;40mK0\u001b[0m  \u001b[30;48;5;208m  \u001b[0m \u001b[30;42m  \u001b[0m \u001b[30;41m  \u001b[0m  \u001b[0;30;40mK0\u001b[0m \u001b[0;30;40mK0\u001b[0m \u001b[0;30;40mK0\u001b[0m  \u001b[0;30;40mK0\u001b[0m \u001b[0;30;40mK0\u001b[0m \u001b[0;30;40mK0\u001b[0m  \n",
      "\n",
      "\u001b[0;30;40mK0\u001b[0m \u001b[0;30;40mK0\u001b[0m \u001b[0;30;40mK0\u001b[0m  \u001b[30;44m  \u001b[0m \u001b[30;43m  \u001b[0m \u001b[30;43m  \u001b[0m  \u001b[0;30;40mK0\u001b[0m \u001b[0;30;40mK0\u001b[0m \u001b[0;30;40mK0\u001b[0m  \u001b[0;30;40mK0\u001b[0m \u001b[0;30;40mK0\u001b[0m \u001b[0;30;40mK0\u001b[0m  \n",
      "\n",
      "\u001b[0;30;40mK0\u001b[0m \u001b[0;30;40mK0\u001b[0m \u001b[0;30;40mK0\u001b[0m  \u001b[30;44m  \u001b[0m \u001b[30;43m  \u001b[0m \u001b[30;44m  \u001b[0m  \u001b[0;30;40mK0\u001b[0m \u001b[0;30;40mK0\u001b[0m \u001b[0;30;40mK0\u001b[0m  \u001b[0;30;40mK0\u001b[0m \u001b[0;30;40mK0\u001b[0m \u001b[0;30;40mK0\u001b[0m  \n",
      "\n",
      "\n",
      "\u001b[0;30;40mK0\u001b[0m \u001b[0;30;40mK0\u001b[0m \u001b[0;30;40mK0\u001b[0m  \u001b[30;43m  \u001b[0m \u001b[30;43m  \u001b[0m \u001b[30;43m  \u001b[0m  \u001b[0;30;40mK0\u001b[0m \u001b[0;30;40mK0\u001b[0m \u001b[0;30;40mK0\u001b[0m  \u001b[0;30;40mK0\u001b[0m \u001b[0;30;40mK0\u001b[0m \u001b[0;30;40mK0\u001b[0m  \n",
      "\n",
      "\u001b[0;30;40mK0\u001b[0m \u001b[0;30;40mK0\u001b[0m \u001b[0;30;40mK0\u001b[0m  \u001b[30;43m  \u001b[0m \u001b[30;43m  \u001b[0m \u001b[30;43m  \u001b[0m  \u001b[0;30;40mK0\u001b[0m \u001b[0;30;40mK0\u001b[0m \u001b[0;30;40mK0\u001b[0m  \u001b[0;30;40mK0\u001b[0m \u001b[0;30;40mK0\u001b[0m \u001b[0;30;40mK0\u001b[0m  \n",
      "\n",
      "\u001b[0;30;40mK0\u001b[0m \u001b[0;30;40mK0\u001b[0m \u001b[0;30;40mK0\u001b[0m  \u001b[30;43m  \u001b[0m \u001b[30;43m  \u001b[0m \u001b[30;43m  \u001b[0m  \u001b[0;30;40mK0\u001b[0m \u001b[0;30;40mK0\u001b[0m \u001b[0;30;40mK0\u001b[0m  \u001b[0;30;40mK0\u001b[0m \u001b[0;30;40mK0\u001b[0m \u001b[0;30;40mK0\u001b[0m  \n",
      "\n",
      "\u001b[30;42m  \u001b[0m \u001b[30;44m  \u001b[0m \u001b[30;44m  \u001b[0m  \u001b[30;41m  \u001b[0m \u001b[30;41m  \u001b[0m \u001b[30;48;5;208m  \u001b[0m  \u001b[30;44m  \u001b[0m \u001b[30;48;5;208m  \u001b[0m \u001b[30;42m  \u001b[0m  \u001b[30;48;5;208m  \u001b[0m \u001b[30;42m  \u001b[0m \u001b[30;41m  \u001b[0m  \n",
      "\n",
      "\u001b[30;48;5;208m  \u001b[0m \u001b[30;48;5;208m  \u001b[0m \u001b[30;48;5;208m  \u001b[0m  \u001b[30;44m  \u001b[0m \u001b[30;44m  \u001b[0m \u001b[30;44m  \u001b[0m  \u001b[30;41m  \u001b[0m \u001b[30;41m  \u001b[0m \u001b[30;41m  \u001b[0m  \u001b[30;42m  \u001b[0m \u001b[30;42m  \u001b[0m \u001b[30;42m  \u001b[0m  \n",
      "\n",
      "\u001b[30;48;5;208m  \u001b[0m \u001b[30;48;5;208m  \u001b[0m \u001b[30;48;5;208m  \u001b[0m  \u001b[30;44m  \u001b[0m \u001b[30;44m  \u001b[0m \u001b[30;44m  \u001b[0m  \u001b[30;41m  \u001b[0m \u001b[30;41m  \u001b[0m \u001b[30;41m  \u001b[0m  \u001b[30;42m  \u001b[0m \u001b[30;42m  \u001b[0m \u001b[30;42m  \u001b[0m  \n",
      "\n",
      "\u001b[0;30;40mK0\u001b[0m \u001b[0;30;40mK0\u001b[0m \u001b[0;30;40mK0\u001b[0m  \u001b[30;47m  \u001b[0m \u001b[30;47m  \u001b[0m \u001b[30;47m  \u001b[0m  \u001b[0;30;40mK0\u001b[0m \u001b[0;30;40mK0\u001b[0m \u001b[0;30;40mK0\u001b[0m  \u001b[0;30;40mK0\u001b[0m \u001b[0;30;40mK0\u001b[0m \u001b[0;30;40mK0\u001b[0m  \n",
      "\n",
      "\u001b[0;30;40mK0\u001b[0m \u001b[0;30;40mK0\u001b[0m \u001b[0;30;40mK0\u001b[0m  \u001b[30;47m  \u001b[0m \u001b[30;47m  \u001b[0m \u001b[30;47m  \u001b[0m  \u001b[0;30;40mK0\u001b[0m \u001b[0;30;40mK0\u001b[0m \u001b[0;30;40mK0\u001b[0m  \u001b[0;30;40mK0\u001b[0m \u001b[0;30;40mK0\u001b[0m \u001b[0;30;40mK0\u001b[0m  \n",
      "\n",
      "\u001b[0;30;40mK0\u001b[0m \u001b[0;30;40mK0\u001b[0m \u001b[0;30;40mK0\u001b[0m  \u001b[30;47m  \u001b[0m \u001b[30;47m  \u001b[0m \u001b[30;47m  \u001b[0m  \u001b[0;30;40mK0\u001b[0m \u001b[0;30;40mK0\u001b[0m \u001b[0;30;40mK0\u001b[0m  \u001b[0;30;40mK0\u001b[0m \u001b[0;30;40mK0\u001b[0m \u001b[0;30;40mK0\u001b[0m  \n",
      "\n",
      "pll state: FLBLRRBBFRFL\n",
      "\n",
      "\u001b[0;30;40mK0\u001b[0m \u001b[0;30;40mK0\u001b[0m \u001b[0;30;40mK0\u001b[0m  \u001b[30;43m  \u001b[0m \u001b[30;43m  \u001b[0m \u001b[30;43m  \u001b[0m  \u001b[0;30;40mK0\u001b[0m \u001b[0;30;40mK0\u001b[0m \u001b[0;30;40mK0\u001b[0m  \u001b[0;30;40mK0\u001b[0m \u001b[0;30;40mK0\u001b[0m \u001b[0;30;40mK0\u001b[0m  \n",
      "\n",
      "\u001b[0;30;40mK0\u001b[0m \u001b[0;30;40mK0\u001b[0m \u001b[0;30;40mK0\u001b[0m  \u001b[30;43m  \u001b[0m \u001b[30;43m  \u001b[0m \u001b[30;43m  \u001b[0m  \u001b[0;30;40mK0\u001b[0m \u001b[0;30;40mK0\u001b[0m \u001b[0;30;40mK0\u001b[0m  \u001b[0;30;40mK0\u001b[0m \u001b[0;30;40mK0\u001b[0m \u001b[0;30;40mK0\u001b[0m  \n",
      "\n",
      "\u001b[0;30;40mK0\u001b[0m \u001b[0;30;40mK0\u001b[0m \u001b[0;30;40mK0\u001b[0m  \u001b[30;43m  \u001b[0m \u001b[30;43m  \u001b[0m \u001b[30;43m  \u001b[0m  \u001b[0;30;40mK0\u001b[0m \u001b[0;30;40mK0\u001b[0m \u001b[0;30;40mK0\u001b[0m  \u001b[0;30;40mK0\u001b[0m \u001b[0;30;40mK0\u001b[0m \u001b[0;30;40mK0\u001b[0m  \n",
      "\n",
      "\u001b[30;44m  \u001b[0m \u001b[30;48;5;208m  \u001b[0m \u001b[30;42m  \u001b[0m  \u001b[30;48;5;208m  \u001b[0m \u001b[30;42m  \u001b[0m \u001b[30;41m  \u001b[0m  \u001b[30;42m  \u001b[0m \u001b[30;44m  \u001b[0m \u001b[30;44m  \u001b[0m  \u001b[30;41m  \u001b[0m \u001b[30;41m  \u001b[0m \u001b[30;48;5;208m  \u001b[0m  \n",
      "\n",
      "\u001b[30;42m  \u001b[0m \u001b[30;42m  \u001b[0m \u001b[30;42m  \u001b[0m  \u001b[30;48;5;208m  \u001b[0m \u001b[30;48;5;208m  \u001b[0m \u001b[30;48;5;208m  \u001b[0m  \u001b[30;44m  \u001b[0m \u001b[30;44m  \u001b[0m \u001b[30;44m  \u001b[0m  \u001b[30;41m  \u001b[0m \u001b[30;41m  \u001b[0m \u001b[30;41m  \u001b[0m  \n",
      "\n",
      "\u001b[30;42m  \u001b[0m \u001b[30;42m  \u001b[0m \u001b[30;42m  \u001b[0m  \u001b[30;48;5;208m  \u001b[0m \u001b[30;48;5;208m  \u001b[0m \u001b[30;48;5;208m  \u001b[0m  \u001b[30;44m  \u001b[0m \u001b[30;44m  \u001b[0m \u001b[30;44m  \u001b[0m  \u001b[30;41m  \u001b[0m \u001b[30;41m  \u001b[0m \u001b[30;41m  \u001b[0m  \n",
      "\n",
      "\u001b[0;30;40mK0\u001b[0m \u001b[0;30;40mK0\u001b[0m \u001b[0;30;40mK0\u001b[0m  \u001b[30;47m  \u001b[0m \u001b[30;47m  \u001b[0m \u001b[30;47m  \u001b[0m  \u001b[0;30;40mK0\u001b[0m \u001b[0;30;40mK0\u001b[0m \u001b[0;30;40mK0\u001b[0m  \u001b[0;30;40mK0\u001b[0m \u001b[0;30;40mK0\u001b[0m \u001b[0;30;40mK0\u001b[0m  \n",
      "\n",
      "\u001b[0;30;40mK0\u001b[0m \u001b[0;30;40mK0\u001b[0m \u001b[0;30;40mK0\u001b[0m  \u001b[30;47m  \u001b[0m \u001b[30;47m  \u001b[0m \u001b[30;47m  \u001b[0m  \u001b[0;30;40mK0\u001b[0m \u001b[0;30;40mK0\u001b[0m \u001b[0;30;40mK0\u001b[0m  \u001b[0;30;40mK0\u001b[0m \u001b[0;30;40mK0\u001b[0m \u001b[0;30;40mK0\u001b[0m  \n",
      "\n",
      "\u001b[0;30;40mK0\u001b[0m \u001b[0;30;40mK0\u001b[0m \u001b[0;30;40mK0\u001b[0m  \u001b[30;47m  \u001b[0m \u001b[30;47m  \u001b[0m \u001b[30;47m  \u001b[0m  \u001b[0;30;40mK0\u001b[0m \u001b[0;30;40mK0\u001b[0m \u001b[0;30;40mK0\u001b[0m  \u001b[0;30;40mK0\u001b[0m \u001b[0;30;40mK0\u001b[0m \u001b[0;30;40mK0\u001b[0m  \n",
      "\n"
     ]
    }
   ],
   "source": [
    "solver = Solver(cube)\n",
    "solver.cross()\n",
    "print_color_cube(cube)\n",
    "solver.f2l()\n",
    "print_color_cube(cube)\n",
    "solver.oll()\n",
    "print_color_cube(cube)\n",
    "solver.pll()\n",
    "print_color_cube(cube)\n"
   ]
  },
  {
   "cell_type": "code",
   "execution_count": 170,
   "id": "c08038b9",
   "metadata": {},
   "outputs": [
    {
     "name": "stdout",
     "output_type": "stream",
     "text": [
      "\n",
      "\u001b[0;30;40mK0\u001b[0m \u001b[0;30;40mK0\u001b[0m \u001b[0;30;40mK0\u001b[0m  \u001b[30;47m  \u001b[0m \u001b[30;47m  \u001b[0m \u001b[30;47m  \u001b[0m  \u001b[0;30;40mK0\u001b[0m \u001b[0;30;40mK0\u001b[0m \u001b[0;30;40mK0\u001b[0m  \u001b[0;30;40mK0\u001b[0m \u001b[0;30;40mK0\u001b[0m \u001b[0;30;40mK0\u001b[0m  \n",
      "\n",
      "\u001b[0;30;40mK0\u001b[0m \u001b[0;30;40mK0\u001b[0m \u001b[0;30;40mK0\u001b[0m  \u001b[30;47m  \u001b[0m \u001b[30;47m  \u001b[0m \u001b[30;47m  \u001b[0m  \u001b[0;30;40mK0\u001b[0m \u001b[0;30;40mK0\u001b[0m \u001b[0;30;40mK0\u001b[0m  \u001b[0;30;40mK0\u001b[0m \u001b[0;30;40mK0\u001b[0m \u001b[0;30;40mK0\u001b[0m  \n",
      "\n",
      "\u001b[0;30;40mK0\u001b[0m \u001b[0;30;40mK0\u001b[0m \u001b[0;30;40mK0\u001b[0m  \u001b[30;47m  \u001b[0m \u001b[30;47m  \u001b[0m \u001b[30;47m  \u001b[0m  \u001b[0;30;40mK0\u001b[0m \u001b[0;30;40mK0\u001b[0m \u001b[0;30;40mK0\u001b[0m  \u001b[0;30;40mK0\u001b[0m \u001b[0;30;40mK0\u001b[0m \u001b[0;30;40mK0\u001b[0m  \n",
      "\n",
      "\u001b[30;42m  \u001b[0m \u001b[30;42m  \u001b[0m \u001b[30;42m  \u001b[0m  \u001b[30;41m  \u001b[0m \u001b[30;41m  \u001b[0m \u001b[30;41m  \u001b[0m  \u001b[30;44m  \u001b[0m \u001b[30;44m  \u001b[0m \u001b[30;44m  \u001b[0m  \u001b[30;48;5;208m  \u001b[0m \u001b[30;48;5;208m  \u001b[0m \u001b[30;48;5;208m  \u001b[0m  \n",
      "\n",
      "\u001b[30;42m  \u001b[0m \u001b[30;42m  \u001b[0m \u001b[30;42m  \u001b[0m  \u001b[30;41m  \u001b[0m \u001b[30;41m  \u001b[0m \u001b[30;41m  \u001b[0m  \u001b[30;44m  \u001b[0m \u001b[30;44m  \u001b[0m \u001b[30;44m  \u001b[0m  \u001b[30;48;5;208m  \u001b[0m \u001b[30;48;5;208m  \u001b[0m \u001b[30;48;5;208m  \u001b[0m  \n",
      "\n",
      "\u001b[30;43m  \u001b[0m \u001b[30;42m  \u001b[0m \u001b[30;48;5;208m  \u001b[0m  \u001b[30;43m  \u001b[0m \u001b[30;43m  \u001b[0m \u001b[30;43m  \u001b[0m  \u001b[30;48;5;208m  \u001b[0m \u001b[30;41m  \u001b[0m \u001b[30;43m  \u001b[0m  \u001b[30;41m  \u001b[0m \u001b[30;43m  \u001b[0m \u001b[30;41m  \u001b[0m  \n",
      "\n",
      "\u001b[0;30;40mK0\u001b[0m \u001b[0;30;40mK0\u001b[0m \u001b[0;30;40mK0\u001b[0m  \u001b[30;44m  \u001b[0m \u001b[30;44m  \u001b[0m \u001b[30;42m  \u001b[0m  \u001b[0;30;40mK0\u001b[0m \u001b[0;30;40mK0\u001b[0m \u001b[0;30;40mK0\u001b[0m  \u001b[0;30;40mK0\u001b[0m \u001b[0;30;40mK0\u001b[0m \u001b[0;30;40mK0\u001b[0m  \n",
      "\n",
      "\u001b[0;30;40mK0\u001b[0m \u001b[0;30;40mK0\u001b[0m \u001b[0;30;40mK0\u001b[0m  \u001b[30;43m  \u001b[0m \u001b[30;43m  \u001b[0m \u001b[30;43m  \u001b[0m  \u001b[0;30;40mK0\u001b[0m \u001b[0;30;40mK0\u001b[0m \u001b[0;30;40mK0\u001b[0m  \u001b[0;30;40mK0\u001b[0m \u001b[0;30;40mK0\u001b[0m \u001b[0;30;40mK0\u001b[0m  \n",
      "\n",
      "\u001b[0;30;40mK0\u001b[0m \u001b[0;30;40mK0\u001b[0m \u001b[0;30;40mK0\u001b[0m  \u001b[30;42m  \u001b[0m \u001b[30;48;5;208m  \u001b[0m \u001b[30;44m  \u001b[0m  \u001b[0;30;40mK0\u001b[0m \u001b[0;30;40mK0\u001b[0m \u001b[0;30;40mK0\u001b[0m  \u001b[0;30;40mK0\u001b[0m \u001b[0;30;40mK0\u001b[0m \u001b[0;30;40mK0\u001b[0m  \n",
      "\n"
     ]
    }
   ],
   "source": [
    "cube.scramble()\n",
    "solver.cross()\n",
    "solver.f2l()\n",
    "print_color_cube(cube)"
   ]
  },
  {
   "cell_type": "code",
   "execution_count": 171,
   "id": "e3e97a9a",
   "metadata": {},
   "outputs": [
    {
     "data": {
      "text/plain": [
       "True"
      ]
     },
     "execution_count": 171,
     "metadata": {},
     "output_type": "execute_result"
    }
   ],
   "source": [
    "solver.yellow_cross()"
   ]
  },
  {
   "cell_type": "code",
   "execution_count": 172,
   "id": "2507eac4",
   "metadata": {},
   "outputs": [
    {
     "name": "stdout",
     "output_type": "stream",
     "text": [
      "\n",
      "\u001b[0;30;40mK0\u001b[0m \u001b[0;30;40mK0\u001b[0m \u001b[0;30;40mK0\u001b[0m  \u001b[30;42m  \u001b[0m \u001b[30;43m  \u001b[0m \u001b[30;48;5;208m  \u001b[0m  \u001b[0;30;40mK0\u001b[0m \u001b[0;30;40mK0\u001b[0m \u001b[0;30;40mK0\u001b[0m  \u001b[0;30;40mK0\u001b[0m \u001b[0;30;40mK0\u001b[0m \u001b[0;30;40mK0\u001b[0m  \n",
      "\n",
      "\u001b[0;30;40mK0\u001b[0m \u001b[0;30;40mK0\u001b[0m \u001b[0;30;40mK0\u001b[0m  \u001b[30;43m  \u001b[0m \u001b[30;43m  \u001b[0m \u001b[30;43m  \u001b[0m  \u001b[0;30;40mK0\u001b[0m \u001b[0;30;40mK0\u001b[0m \u001b[0;30;40mK0\u001b[0m  \u001b[0;30;40mK0\u001b[0m \u001b[0;30;40mK0\u001b[0m \u001b[0;30;40mK0\u001b[0m  \n",
      "\n",
      "\u001b[0;30;40mK0\u001b[0m \u001b[0;30;40mK0\u001b[0m \u001b[0;30;40mK0\u001b[0m  \u001b[30;44m  \u001b[0m \u001b[30;43m  \u001b[0m \u001b[30;43m  \u001b[0m  \u001b[0;30;40mK0\u001b[0m \u001b[0;30;40mK0\u001b[0m \u001b[0;30;40mK0\u001b[0m  \u001b[0;30;40mK0\u001b[0m \u001b[0;30;40mK0\u001b[0m \u001b[0;30;40mK0\u001b[0m  \n",
      "\n",
      "\u001b[30;43m  \u001b[0m \u001b[30;42m  \u001b[0m \u001b[30;41m  \u001b[0m  \u001b[30;43m  \u001b[0m \u001b[30;44m  \u001b[0m \u001b[30;41m  \u001b[0m  \u001b[30;42m  \u001b[0m \u001b[30;48;5;208m  \u001b[0m \u001b[30;44m  \u001b[0m  \u001b[30;43m  \u001b[0m \u001b[30;41m  \u001b[0m \u001b[30;48;5;208m  \u001b[0m  \n",
      "\n",
      "\u001b[30;42m  \u001b[0m \u001b[30;42m  \u001b[0m \u001b[30;42m  \u001b[0m  \u001b[30;48;5;208m  \u001b[0m \u001b[30;48;5;208m  \u001b[0m \u001b[30;48;5;208m  \u001b[0m  \u001b[30;44m  \u001b[0m \u001b[30;44m  \u001b[0m \u001b[30;44m  \u001b[0m  \u001b[30;41m  \u001b[0m \u001b[30;41m  \u001b[0m \u001b[30;41m  \u001b[0m  \n",
      "\n",
      "\u001b[30;42m  \u001b[0m \u001b[30;42m  \u001b[0m \u001b[30;42m  \u001b[0m  \u001b[30;48;5;208m  \u001b[0m \u001b[30;48;5;208m  \u001b[0m \u001b[30;48;5;208m  \u001b[0m  \u001b[30;44m  \u001b[0m \u001b[30;44m  \u001b[0m \u001b[30;44m  \u001b[0m  \u001b[30;41m  \u001b[0m \u001b[30;41m  \u001b[0m \u001b[30;41m  \u001b[0m  \n",
      "\n",
      "\u001b[0;30;40mK0\u001b[0m \u001b[0;30;40mK0\u001b[0m \u001b[0;30;40mK0\u001b[0m  \u001b[30;47m  \u001b[0m \u001b[30;47m  \u001b[0m \u001b[30;47m  \u001b[0m  \u001b[0;30;40mK0\u001b[0m \u001b[0;30;40mK0\u001b[0m \u001b[0;30;40mK0\u001b[0m  \u001b[0;30;40mK0\u001b[0m \u001b[0;30;40mK0\u001b[0m \u001b[0;30;40mK0\u001b[0m  \n",
      "\n",
      "\u001b[0;30;40mK0\u001b[0m \u001b[0;30;40mK0\u001b[0m \u001b[0;30;40mK0\u001b[0m  \u001b[30;47m  \u001b[0m \u001b[30;47m  \u001b[0m \u001b[30;47m  \u001b[0m  \u001b[0;30;40mK0\u001b[0m \u001b[0;30;40mK0\u001b[0m \u001b[0;30;40mK0\u001b[0m  \u001b[0;30;40mK0\u001b[0m \u001b[0;30;40mK0\u001b[0m \u001b[0;30;40mK0\u001b[0m  \n",
      "\n",
      "\u001b[0;30;40mK0\u001b[0m \u001b[0;30;40mK0\u001b[0m \u001b[0;30;40mK0\u001b[0m  \u001b[30;47m  \u001b[0m \u001b[30;47m  \u001b[0m \u001b[30;47m  \u001b[0m  \u001b[0;30;40mK0\u001b[0m \u001b[0;30;40mK0\u001b[0m \u001b[0;30;40mK0\u001b[0m  \u001b[0;30;40mK0\u001b[0m \u001b[0;30;40mK0\u001b[0m \u001b[0;30;40mK0\u001b[0m  \n",
      "\n"
     ]
    }
   ],
   "source": [
    "print_color_cube(cube)"
   ]
  },
  {
   "cell_type": "code",
   "execution_count": 173,
   "id": "eb90e758",
   "metadata": {},
   "outputs": [
    {
     "name": "stdout",
     "output_type": "stream",
     "text": [
      "Edge: ('Y', 'G') UF 0\n",
      "  Face color: G\n",
      "  Edge ('Y', 'G') UF 0 is already aligned.\n",
      "Edge: ('Y', 'B') UF 0\n",
      "  Face color: O\n",
      "Edge: ('Y', 'R') UF 0\n",
      "  Face color: R\n",
      "  Edge ('Y', 'R') UF 0 is already aligned.\n",
      "Edge: ('Y', 'O') UF 0\n",
      "  Face color: O\n",
      "  Edge ('Y', 'O') UF 0 is already aligned.\n"
     ]
    }
   ],
   "source": [
    "def align_yellow_cross(self):\n",
    "    cube = self.cube\n",
    "    yellow_edges = cube.edges('Y')\n",
    "    for edge in yellow_edges:\n",
    "        while 'F' not in edge.position:\n",
    "            cube.rotate_cube(axis=\"Y\", clockwise=True)\n",
    "        print(f\"Edge: {edge}\")\n",
    "        face_color = cube.face_color('F')\n",
    "        print(f\"  Face color: {face_color}\")\n",
    "        if edge.color[1] == cube.face_color('F'):\n",
    "            print(f\"  Edge {edge} is already aligned.\")\n",
    "            continue\n",
    "        left_color = cube.face_color('L')\n",
    "        if edge.color[1] == left_color:\n",
    "            cube.sequence(\"R U R' U R U2 R' U\")\n",
    "            continue\n",
    "        right_color = cube.face_color('R')\n",
    "        if edge.color[1] == right_color:\n",
    "            cube.rotate_cube(axis=\"Y\", clockwise=True)\n",
    "            cube.sequence(\"R U R' U R U2 R' U\")\n",
    "            continue\n",
    "        back_color = cube.face_color('B')\n",
    "        if edge.color[1] == back_color:\n",
    "            cube.rotate_face(\"U\", clockwise=True)\n",
    "            cube.sequence(\"R U R' U R U2 R' U\")\n",
    "        \n",
    "\n",
    "align_yellow_cross(solver)"
   ]
  },
  {
   "cell_type": "code",
   "execution_count": 174,
   "id": "838dc7f3",
   "metadata": {},
   "outputs": [
    {
     "name": "stdout",
     "output_type": "stream",
     "text": [
      "Edge: ('Y', 'G') UF 0\n",
      "  Face color: G\n",
      "  Edge ('Y', 'G') UF 0 is already aligned.\n",
      "Edge: ('Y', 'B') UF 0\n",
      "  Face color: B\n",
      "  Edge ('Y', 'B') UF 0 is already aligned.\n",
      "Edge: ('Y', 'R') UF 0\n",
      "  Face color: R\n",
      "  Edge ('Y', 'R') UF 0 is already aligned.\n",
      "Edge: ('Y', 'O') UF 0\n",
      "  Face color: O\n",
      "  Edge ('Y', 'O') UF 0 is already aligned.\n"
     ]
    }
   ],
   "source": [
    "align_yellow_cross(solver)"
   ]
  },
  {
   "cell_type": "code",
   "execution_count": 175,
   "id": "9b649e50",
   "metadata": {},
   "outputs": [
    {
     "name": "stdout",
     "output_type": "stream",
     "text": [
      "\n",
      "\u001b[0;30;40mK0\u001b[0m \u001b[0;30;40mK0\u001b[0m \u001b[0;30;40mK0\u001b[0m  \u001b[30;44m  \u001b[0m \u001b[30;43m  \u001b[0m \u001b[30;43m  \u001b[0m  \u001b[0;30;40mK0\u001b[0m \u001b[0;30;40mK0\u001b[0m \u001b[0;30;40mK0\u001b[0m  \u001b[0;30;40mK0\u001b[0m \u001b[0;30;40mK0\u001b[0m \u001b[0;30;40mK0\u001b[0m  \n",
      "\n",
      "\u001b[0;30;40mK0\u001b[0m \u001b[0;30;40mK0\u001b[0m \u001b[0;30;40mK0\u001b[0m  \u001b[30;43m  \u001b[0m \u001b[30;43m  \u001b[0m \u001b[30;43m  \u001b[0m  \u001b[0;30;40mK0\u001b[0m \u001b[0;30;40mK0\u001b[0m \u001b[0;30;40mK0\u001b[0m  \u001b[0;30;40mK0\u001b[0m \u001b[0;30;40mK0\u001b[0m \u001b[0;30;40mK0\u001b[0m  \n",
      "\n",
      "\u001b[0;30;40mK0\u001b[0m \u001b[0;30;40mK0\u001b[0m \u001b[0;30;40mK0\u001b[0m  \u001b[30;48;5;208m  \u001b[0m \u001b[30;43m  \u001b[0m \u001b[30;41m  \u001b[0m  \u001b[0;30;40mK0\u001b[0m \u001b[0;30;40mK0\u001b[0m \u001b[0;30;40mK0\u001b[0m  \u001b[0;30;40mK0\u001b[0m \u001b[0;30;40mK0\u001b[0m \u001b[0;30;40mK0\u001b[0m  \n",
      "\n",
      "\u001b[30;48;5;208m  \u001b[0m \u001b[30;42m  \u001b[0m \u001b[30;43m  \u001b[0m  \u001b[30;42m  \u001b[0m \u001b[30;48;5;208m  \u001b[0m \u001b[30;43m  \u001b[0m  \u001b[30;44m  \u001b[0m \u001b[30;44m  \u001b[0m \u001b[30;41m  \u001b[0m  \u001b[30;42m  \u001b[0m \u001b[30;41m  \u001b[0m \u001b[30;43m  \u001b[0m  \n",
      "\n",
      "\u001b[30;42m  \u001b[0m \u001b[30;42m  \u001b[0m \u001b[30;42m  \u001b[0m  \u001b[30;48;5;208m  \u001b[0m \u001b[30;48;5;208m  \u001b[0m \u001b[30;48;5;208m  \u001b[0m  \u001b[30;44m  \u001b[0m \u001b[30;44m  \u001b[0m \u001b[30;44m  \u001b[0m  \u001b[30;41m  \u001b[0m \u001b[30;41m  \u001b[0m \u001b[30;41m  \u001b[0m  \n",
      "\n",
      "\u001b[30;42m  \u001b[0m \u001b[30;42m  \u001b[0m \u001b[30;42m  \u001b[0m  \u001b[30;48;5;208m  \u001b[0m \u001b[30;48;5;208m  \u001b[0m \u001b[30;48;5;208m  \u001b[0m  \u001b[30;44m  \u001b[0m \u001b[30;44m  \u001b[0m \u001b[30;44m  \u001b[0m  \u001b[30;41m  \u001b[0m \u001b[30;41m  \u001b[0m \u001b[30;41m  \u001b[0m  \n",
      "\n",
      "\u001b[0;30;40mK0\u001b[0m \u001b[0;30;40mK0\u001b[0m \u001b[0;30;40mK0\u001b[0m  \u001b[30;47m  \u001b[0m \u001b[30;47m  \u001b[0m \u001b[30;47m  \u001b[0m  \u001b[0;30;40mK0\u001b[0m \u001b[0;30;40mK0\u001b[0m \u001b[0;30;40mK0\u001b[0m  \u001b[0;30;40mK0\u001b[0m \u001b[0;30;40mK0\u001b[0m \u001b[0;30;40mK0\u001b[0m  \n",
      "\n",
      "\u001b[0;30;40mK0\u001b[0m \u001b[0;30;40mK0\u001b[0m \u001b[0;30;40mK0\u001b[0m  \u001b[30;47m  \u001b[0m \u001b[30;47m  \u001b[0m \u001b[30;47m  \u001b[0m  \u001b[0;30;40mK0\u001b[0m \u001b[0;30;40mK0\u001b[0m \u001b[0;30;40mK0\u001b[0m  \u001b[0;30;40mK0\u001b[0m \u001b[0;30;40mK0\u001b[0m \u001b[0;30;40mK0\u001b[0m  \n",
      "\n",
      "\u001b[0;30;40mK0\u001b[0m \u001b[0;30;40mK0\u001b[0m \u001b[0;30;40mK0\u001b[0m  \u001b[30;47m  \u001b[0m \u001b[30;47m  \u001b[0m \u001b[30;47m  \u001b[0m  \u001b[0;30;40mK0\u001b[0m \u001b[0;30;40mK0\u001b[0m \u001b[0;30;40mK0\u001b[0m  \u001b[0;30;40mK0\u001b[0m \u001b[0;30;40mK0\u001b[0m \u001b[0;30;40mK0\u001b[0m  \n",
      "\n"
     ]
    }
   ],
   "source": [
    "print_color_cube(cube)"
   ]
  },
  {
   "cell_type": "code",
   "execution_count": null,
   "id": "2642d23d",
   "metadata": {},
   "outputs": [],
   "source": []
  }
 ],
 "metadata": {
  "kernelspec": {
   "display_name": ".venv",
   "language": "python",
   "name": "python3"
  },
  "language_info": {
   "codemirror_mode": {
    "name": "ipython",
    "version": 3
   },
   "file_extension": ".py",
   "mimetype": "text/x-python",
   "name": "python",
   "nbconvert_exporter": "python",
   "pygments_lexer": "ipython3",
   "version": "3.12.10"
  }
 },
 "nbformat": 4,
 "nbformat_minor": 5
}
